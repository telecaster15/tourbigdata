{
  "nbformat": 4,
  "nbformat_minor": 0,
  "metadata": {
    "colab": {
      "name": "19_18_chind.ipynb",
      "provenance": [],
      "mount_file_id": "1XNLL51Tuz1obutAmvBpH_fU2zL27hqG4",
      "authorship_tag": "ABX9TyMbam7t3imwCZwKVrd+RnnL",
      "include_colab_link": true
    },
    "kernelspec": {
      "name": "python3",
      "display_name": "Python 3"
    }
  },
  "cells": [
    {
      "cell_type": "markdown",
      "metadata": {
        "id": "view-in-github",
        "colab_type": "text"
      },
      "source": [
        "<a href=\"https://colab.research.google.com/github/telecaster15/tourbigdata/blob/master/notebook/19_18_chind.ipynb\" target=\"_parent\"><img src=\"https://colab.research.google.com/assets/colab-badge.svg\" alt=\"Open In Colab\"/></a>"
      ]
    },
    {
      "cell_type": "markdown",
      "metadata": {
        "id": "tfnHoI0Kocx1",
        "colab_type": "text"
      },
      "source": [
        "# 2018,2019 데이터 결합 "
      ]
    },
    {
      "cell_type": "code",
      "metadata": {
        "id": "TqhpeGRCOdcg",
        "colab_type": "code",
        "colab": {}
      },
      "source": [
        "import pandas as pd"
      ],
      "execution_count": null,
      "outputs": []
    },
    {
      "cell_type": "code",
      "metadata": {
        "id": "TCViViXpOsBN",
        "colab_type": "code",
        "colab": {}
      },
      "source": [
        "df_2018 = pd.read_csv('/content/drive/My Drive/빅데이터/2018_d1.csv')"
      ],
      "execution_count": null,
      "outputs": []
    },
    {
      "cell_type": "code",
      "metadata": {
        "id": "TJYH6S4pOuzO",
        "colab_type": "code",
        "colab": {}
      },
      "source": [
        "df_2019 = pd.read_csv('/content/drive/My Drive/빅데이터/2019_d1.csv')"
      ],
      "execution_count": null,
      "outputs": []
    },
    {
      "cell_type": "code",
      "metadata": {
        "id": "kcoNmV2cO0aH",
        "colab_type": "code",
        "colab": {}
      },
      "source": [
        "m_df = pd.concat([df_2018,df_2019],ignore_index= True)"
      ],
      "execution_count": null,
      "outputs": []
    },
    {
      "cell_type": "code",
      "metadata": {
        "id": "u7lADZFNO4g8",
        "colab_type": "code",
        "colab": {
          "base_uri": "https://localhost:8080/",
          "height": 237
        },
        "outputId": "421c6c4e-ad83-4150-af03-cc2585e967a4"
      },
      "source": [
        "m_df.head()"
      ],
      "execution_count": null,
      "outputs": [
        {
          "output_type": "execute_result",
          "data": {
            "text/html": [
              "<div>\n",
              "<style scoped>\n",
              "    .dataframe tbody tr th:only-of-type {\n",
              "        vertical-align: middle;\n",
              "    }\n",
              "\n",
              "    .dataframe tbody tr th {\n",
              "        vertical-align: top;\n",
              "    }\n",
              "\n",
              "    .dataframe thead th {\n",
              "        text-align: right;\n",
              "    }\n",
              "</style>\n",
              "<table border=\"1\" class=\"dataframe\">\n",
              "  <thead>\n",
              "    <tr style=\"text-align: right;\">\n",
              "      <th></th>\n",
              "      <th>Unnamed: 0</th>\n",
              "      <th>Q2A1</th>\n",
              "      <th>Q5_1</th>\n",
              "      <th>QQ_1</th>\n",
              "      <th>QQ_2</th>\n",
              "      <th>QQ_3</th>\n",
              "      <th>QQ_4</th>\n",
              "      <th>QQ_5</th>\n",
              "      <th>QQ_6</th>\n",
              "      <th>QQ_7</th>\n",
              "      <th>QQ_8</th>\n",
              "      <th>QQ_9</th>\n",
              "      <th>QQ_10</th>\n",
              "      <th>QQ_11</th>\n",
              "      <th>QQ_12</th>\n",
              "      <th>QQ_13</th>\n",
              "      <th>QQ_14</th>\n",
              "      <th>CQ14_1T</th>\n",
              "      <th>D_COU</th>\n",
              "      <th>D_GEN</th>\n",
              "      <th>D_AGE</th>\n",
              "      <th>Q16_a</th>\n",
              "      <th>Q15_2A1</th>\n",
              "      <th>Q15_2A2</th>\n",
              "      <th>Q15_2A3</th>\n",
              "      <th>Q15_2A4</th>\n",
              "      <th>Q15_2A5</th>\n",
              "      <th>Q15_2A6</th>\n",
              "      <th>Q15_2A7</th>\n",
              "      <th>Q15_2A8</th>\n",
              "      <th>Q15_2A9</th>\n",
              "      <th>Q15_2A10</th>\n",
              "      <th>Q15_2A11</th>\n",
              "      <th>Q15_2A12</th>\n",
              "      <th>Q10_2A1</th>\n",
              "    </tr>\n",
              "  </thead>\n",
              "  <tbody>\n",
              "    <tr>\n",
              "      <th>0</th>\n",
              "      <td>407</td>\n",
              "      <td>NaN</td>\n",
              "      <td>2.0</td>\n",
              "      <td>0</td>\n",
              "      <td>1</td>\n",
              "      <td>0</td>\n",
              "      <td>0</td>\n",
              "      <td>0</td>\n",
              "      <td>0</td>\n",
              "      <td>0</td>\n",
              "      <td>0</td>\n",
              "      <td>0</td>\n",
              "      <td>0</td>\n",
              "      <td>1</td>\n",
              "      <td>0</td>\n",
              "      <td>0</td>\n",
              "      <td>0</td>\n",
              "      <td>2.0</td>\n",
              "      <td>1</td>\n",
              "      <td>1.0</td>\n",
              "      <td>2.0</td>\n",
              "      <td>1</td>\n",
              "      <td>5.0</td>\n",
              "      <td>5.0</td>\n",
              "      <td>5.0</td>\n",
              "      <td>5.0</td>\n",
              "      <td>3.0</td>\n",
              "      <td>5.0</td>\n",
              "      <td>5.0</td>\n",
              "      <td>5.0</td>\n",
              "      <td>3.0</td>\n",
              "      <td>5.0</td>\n",
              "      <td>5.0</td>\n",
              "      <td>5.0</td>\n",
              "      <td>2.0</td>\n",
              "    </tr>\n",
              "    <tr>\n",
              "      <th>1</th>\n",
              "      <td>443</td>\n",
              "      <td>NaN</td>\n",
              "      <td>2.0</td>\n",
              "      <td>0</td>\n",
              "      <td>1</td>\n",
              "      <td>0</td>\n",
              "      <td>1</td>\n",
              "      <td>0</td>\n",
              "      <td>0</td>\n",
              "      <td>0</td>\n",
              "      <td>1</td>\n",
              "      <td>0</td>\n",
              "      <td>0</td>\n",
              "      <td>1</td>\n",
              "      <td>0</td>\n",
              "      <td>0</td>\n",
              "      <td>0</td>\n",
              "      <td>2.0</td>\n",
              "      <td>1</td>\n",
              "      <td>1.0</td>\n",
              "      <td>3.0</td>\n",
              "      <td>1</td>\n",
              "      <td>5.0</td>\n",
              "      <td>5.0</td>\n",
              "      <td>5.0</td>\n",
              "      <td>5.0</td>\n",
              "      <td>4.0</td>\n",
              "      <td>4.0</td>\n",
              "      <td>4.0</td>\n",
              "      <td>4.0</td>\n",
              "      <td>4.0</td>\n",
              "      <td>5.0</td>\n",
              "      <td>5.0</td>\n",
              "      <td>5.0</td>\n",
              "      <td>3.0</td>\n",
              "    </tr>\n",
              "    <tr>\n",
              "      <th>2</th>\n",
              "      <td>491</td>\n",
              "      <td>4.0</td>\n",
              "      <td>2.0</td>\n",
              "      <td>0</td>\n",
              "      <td>0</td>\n",
              "      <td>0</td>\n",
              "      <td>0</td>\n",
              "      <td>0</td>\n",
              "      <td>0</td>\n",
              "      <td>0</td>\n",
              "      <td>0</td>\n",
              "      <td>0</td>\n",
              "      <td>0</td>\n",
              "      <td>1</td>\n",
              "      <td>0</td>\n",
              "      <td>0</td>\n",
              "      <td>0</td>\n",
              "      <td>1.0</td>\n",
              "      <td>1</td>\n",
              "      <td>1.0</td>\n",
              "      <td>2.0</td>\n",
              "      <td>1</td>\n",
              "      <td>5.0</td>\n",
              "      <td>5.0</td>\n",
              "      <td>5.0</td>\n",
              "      <td>5.0</td>\n",
              "      <td>5.0</td>\n",
              "      <td>5.0</td>\n",
              "      <td>5.0</td>\n",
              "      <td>5.0</td>\n",
              "      <td>5.0</td>\n",
              "      <td>5.0</td>\n",
              "      <td>5.0</td>\n",
              "      <td>5.0</td>\n",
              "      <td>14.0</td>\n",
              "    </tr>\n",
              "    <tr>\n",
              "      <th>3</th>\n",
              "      <td>1054</td>\n",
              "      <td>4.0</td>\n",
              "      <td>2.0</td>\n",
              "      <td>0</td>\n",
              "      <td>1</td>\n",
              "      <td>1</td>\n",
              "      <td>1</td>\n",
              "      <td>1</td>\n",
              "      <td>0</td>\n",
              "      <td>0</td>\n",
              "      <td>0</td>\n",
              "      <td>0</td>\n",
              "      <td>0</td>\n",
              "      <td>1</td>\n",
              "      <td>0</td>\n",
              "      <td>0</td>\n",
              "      <td>0</td>\n",
              "      <td>3.0</td>\n",
              "      <td>1</td>\n",
              "      <td>1.0</td>\n",
              "      <td>4.0</td>\n",
              "      <td>1</td>\n",
              "      <td>5.0</td>\n",
              "      <td>0.0</td>\n",
              "      <td>5.0</td>\n",
              "      <td>5.0</td>\n",
              "      <td>5.0</td>\n",
              "      <td>5.0</td>\n",
              "      <td>5.0</td>\n",
              "      <td>5.0</td>\n",
              "      <td>1.0</td>\n",
              "      <td>3.0</td>\n",
              "      <td>5.0</td>\n",
              "      <td>5.0</td>\n",
              "      <td>78.0</td>\n",
              "    </tr>\n",
              "    <tr>\n",
              "      <th>4</th>\n",
              "      <td>1063</td>\n",
              "      <td>2.0</td>\n",
              "      <td>1.0</td>\n",
              "      <td>0</td>\n",
              "      <td>1</td>\n",
              "      <td>0</td>\n",
              "      <td>1</td>\n",
              "      <td>0</td>\n",
              "      <td>0</td>\n",
              "      <td>1</td>\n",
              "      <td>0</td>\n",
              "      <td>1</td>\n",
              "      <td>1</td>\n",
              "      <td>0</td>\n",
              "      <td>0</td>\n",
              "      <td>0</td>\n",
              "      <td>1</td>\n",
              "      <td>3.0</td>\n",
              "      <td>0</td>\n",
              "      <td>1.0</td>\n",
              "      <td>1.0</td>\n",
              "      <td>0</td>\n",
              "      <td>5.0</td>\n",
              "      <td>5.0</td>\n",
              "      <td>5.0</td>\n",
              "      <td>5.0</td>\n",
              "      <td>5.0</td>\n",
              "      <td>5.0</td>\n",
              "      <td>5.0</td>\n",
              "      <td>5.0</td>\n",
              "      <td>5.0</td>\n",
              "      <td>5.0</td>\n",
              "      <td>5.0</td>\n",
              "      <td>5.0</td>\n",
              "      <td>1.0</td>\n",
              "    </tr>\n",
              "  </tbody>\n",
              "</table>\n",
              "</div>"
            ],
            "text/plain": [
              "   Unnamed: 0  Q2A1  Q5_1  QQ_1  ...  Q15_2A10  Q15_2A11  Q15_2A12  Q10_2A1\n",
              "0         407   NaN   2.0     0  ...       5.0       5.0       5.0      2.0\n",
              "1         443   NaN   2.0     0  ...       5.0       5.0       5.0      3.0\n",
              "2         491   4.0   2.0     0  ...       5.0       5.0       5.0     14.0\n",
              "3        1054   4.0   2.0     0  ...       3.0       5.0       5.0     78.0\n",
              "4        1063   2.0   1.0     0  ...       5.0       5.0       5.0      1.0\n",
              "\n",
              "[5 rows x 35 columns]"
            ]
          },
          "metadata": {
            "tags": []
          },
          "execution_count": 10
        }
      ]
    },
    {
      "cell_type": "code",
      "metadata": {
        "id": "5GoJJeQyO9ic",
        "colab_type": "code",
        "colab": {}
      },
      "source": [
        "m_df['Q2A1'].fillna(1,inplace=True)"
      ],
      "execution_count": null,
      "outputs": []
    },
    {
      "cell_type": "code",
      "metadata": {
        "id": "lGnjHQZXPy_Z",
        "colab_type": "code",
        "colab": {
          "base_uri": "https://localhost:8080/",
          "height": 35
        },
        "outputId": "05e6fb18-5dcb-49b1-b813-86754e2a8309"
      },
      "source": [
        "m_df['Q2A1'].isnull().sum()"
      ],
      "execution_count": null,
      "outputs": [
        {
          "output_type": "execute_result",
          "data": {
            "text/plain": [
              "0"
            ]
          },
          "metadata": {
            "tags": []
          },
          "execution_count": 31
        }
      ]
    },
    {
      "cell_type": "code",
      "metadata": {
        "id": "VYcMDxexP7SS",
        "colab_type": "code",
        "colab": {}
      },
      "source": [
        "m_df.drop(['Unnamed: 0'],axis=1,inplace=True)"
      ],
      "execution_count": null,
      "outputs": []
    },
    {
      "cell_type": "code",
      "metadata": {
        "id": "5v32t99pQL2Q",
        "colab_type": "code",
        "colab": {
          "base_uri": "https://localhost:8080/",
          "height": 746
        },
        "outputId": "b2d9966d-8696-4739-f812-66ecdea0747b"
      },
      "source": [
        "m_df.info()"
      ],
      "execution_count": null,
      "outputs": [
        {
          "output_type": "stream",
          "text": [
            "<class 'pandas.core.frame.DataFrame'>\n",
            "RangeIndex: 3571 entries, 0 to 3570\n",
            "Data columns (total 34 columns):\n",
            " #   Column    Non-Null Count  Dtype  \n",
            "---  ------    --------------  -----  \n",
            " 0   Q2A1      3571 non-null   float64\n",
            " 1   Q5_1      3571 non-null   float64\n",
            " 2   QQ_1      3571 non-null   int64  \n",
            " 3   QQ_2      3571 non-null   int64  \n",
            " 4   QQ_3      3571 non-null   int64  \n",
            " 5   QQ_4      3571 non-null   int64  \n",
            " 6   QQ_5      3571 non-null   int64  \n",
            " 7   QQ_6      3571 non-null   int64  \n",
            " 8   QQ_7      3571 non-null   int64  \n",
            " 9   QQ_8      3571 non-null   int64  \n",
            " 10  QQ_9      3571 non-null   int64  \n",
            " 11  QQ_10     3571 non-null   int64  \n",
            " 12  QQ_11     3571 non-null   int64  \n",
            " 13  QQ_12     3571 non-null   int64  \n",
            " 14  QQ_13     3571 non-null   int64  \n",
            " 15  QQ_14     3571 non-null   int64  \n",
            " 16  CQ14_1T   3571 non-null   float64\n",
            " 17  D_COU     3571 non-null   int64  \n",
            " 18  D_GEN     3571 non-null   float64\n",
            " 19  D_AGE     3571 non-null   float64\n",
            " 20  Q16_a     3571 non-null   int64  \n",
            " 21  Q15_2A1   3571 non-null   float64\n",
            " 22  Q15_2A2   3571 non-null   float64\n",
            " 23  Q15_2A3   3571 non-null   float64\n",
            " 24  Q15_2A4   3571 non-null   float64\n",
            " 25  Q15_2A5   3571 non-null   float64\n",
            " 26  Q15_2A6   3571 non-null   float64\n",
            " 27  Q15_2A7   3571 non-null   float64\n",
            " 28  Q15_2A8   3571 non-null   float64\n",
            " 29  Q15_2A9   3571 non-null   float64\n",
            " 30  Q15_2A10  3571 non-null   float64\n",
            " 31  Q15_2A11  3571 non-null   float64\n",
            " 32  Q15_2A12  3571 non-null   float64\n",
            " 33  Q10_2A1   3571 non-null   float64\n",
            "dtypes: float64(18), int64(16)\n",
            "memory usage: 948.7 KB\n"
          ],
          "name": "stdout"
        }
      ]
    },
    {
      "cell_type": "code",
      "metadata": {
        "id": "Hu0Rgh8uQUS-",
        "colab_type": "code",
        "colab": {}
      },
      "source": [
        "m_df.to_csv('/content/drive/My Drive/빅데이터/m_d1.csv')"
      ],
      "execution_count": null,
      "outputs": []
    },
    {
      "cell_type": "code",
      "metadata": {
        "id": "_KK-eIS3QbQW",
        "colab_type": "code",
        "colab": {
          "base_uri": "https://localhost:8080/",
          "height": 159
        },
        "outputId": "353e9433-7bd3-4519-d9ac-4a0bbc311964"
      },
      "source": [
        "m_df['CQ14_1T'].value_counts()"
      ],
      "execution_count": null,
      "outputs": [
        {
          "output_type": "execute_result",
          "data": {
            "text/plain": [
              "2.0     1186\n",
              "3.0      754\n",
              "1.0      672\n",
              "4.0      360\n",
              "5.0      322\n",
              "6.0      251\n",
              "98.0      26\n",
              "Name: CQ14_1T, dtype: int64"
            ]
          },
          "metadata": {
            "tags": []
          },
          "execution_count": 34
        }
      ]
    },
    {
      "cell_type": "code",
      "metadata": {
        "id": "1kL8gjZ9VL2R",
        "colab_type": "code",
        "colab": {
          "base_uri": "https://localhost:8080/",
          "height": 126
        },
        "outputId": "37c6f3b7-f61f-4bee-db7c-c45d1e796e71"
      },
      "source": [
        "for i in range(len(m_df['CQ14_1T'])):\n",
        "  if m_df['CQ14_1T'][i:i+1].values == 98:\n",
        "    m_df['CQ14_1T'][i:i+1]= 7"
      ],
      "execution_count": null,
      "outputs": [
        {
          "output_type": "stream",
          "text": [
            "/usr/local/lib/python3.6/dist-packages/ipykernel_launcher.py:3: SettingWithCopyWarning: \n",
            "A value is trying to be set on a copy of a slice from a DataFrame\n",
            "\n",
            "See the caveats in the documentation: https://pandas.pydata.org/pandas-docs/stable/user_guide/indexing.html#returning-a-view-versus-a-copy\n",
            "  This is separate from the ipykernel package so we can avoid doing imports until\n"
          ],
          "name": "stderr"
        }
      ]
    },
    {
      "cell_type": "code",
      "metadata": {
        "id": "QRQ5AzHcVW8D",
        "colab_type": "code",
        "colab": {
          "base_uri": "https://localhost:8080/",
          "height": 159
        },
        "outputId": "3d94fc7e-4c63-477f-ca8b-cee313643bcb"
      },
      "source": [
        "m_df['CQ14_1T'].value_counts()"
      ],
      "execution_count": null,
      "outputs": [
        {
          "output_type": "execute_result",
          "data": {
            "text/plain": [
              "2.0    1186\n",
              "3.0     754\n",
              "1.0     672\n",
              "4.0     360\n",
              "5.0     322\n",
              "6.0     251\n",
              "7.0      26\n",
              "Name: CQ14_1T, dtype: int64"
            ]
          },
          "metadata": {
            "tags": []
          },
          "execution_count": 36
        }
      ]
    },
    {
      "cell_type": "code",
      "metadata": {
        "id": "BEyES57aVX-b",
        "colab_type": "code",
        "colab": {}
      },
      "source": [
        "m_df.to_csv('/content/drive/My Drive/빅데이터/m_d1.csv')"
      ],
      "execution_count": null,
      "outputs": []
    },
    {
      "cell_type": "code",
      "metadata": {
        "id": "HSqvO8WcVaoI",
        "colab_type": "code",
        "colab": {}
      },
      "source": [
        ""
      ],
      "execution_count": null,
      "outputs": []
    }
  ]
}