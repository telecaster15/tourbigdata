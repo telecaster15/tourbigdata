{
  "nbformat": 4,
  "nbformat_minor": 0,
  "metadata": {
    "colab": {
      "name": "sinhan.ipynb",
      "provenance": [],
      "mount_file_id": "1KGQslL3MfXYZmRVNYch0_EqiIIUxb-Xb",
      "authorship_tag": "ABX9TyPaXe6nTTkSXapmmUY3xQrx",
      "include_colab_link": true
    },
    "kernelspec": {
      "name": "python3",
      "display_name": "Python 3"
    }
  },
  "cells": [
    {
      "cell_type": "markdown",
      "metadata": {
        "id": "view-in-github",
        "colab_type": "text"
      },
      "source": [
        "<a href=\"https://colab.research.google.com/github/telecaster15/tourbigdata/blob/master/notebook/sinhan.ipynb\" target=\"_parent\"><img src=\"https://colab.research.google.com/assets/colab-badge.svg\" alt=\"Open In Colab\"/></a>"
      ]
    },
    {
      "cell_type": "code",
      "metadata": {
        "id": "3yszw-Sry7jh",
        "colab_type": "code",
        "colab": {}
      },
      "source": [
        "import pandas as pd\n",
        "import csv\n"
      ],
      "execution_count": 2,
      "outputs": []
    },
    {
      "cell_type": "code",
      "metadata": {
        "id": "Njqxf5LQ5va8",
        "colab_type": "code",
        "colab": {}
      },
      "source": [
        "f = open('/content/drive/My Drive/빅데이터/신한카드 데이터/KCTI_FOREIGNER.txt','r')\n"
      ],
      "execution_count": 3,
      "outputs": []
    },
    {
      "cell_type": "code",
      "metadata": {
        "id": "Rb7bhqEX8X58",
        "colab_type": "code",
        "colab": {
          "base_uri": "https://localhost:8080/",
          "height": 36
        },
        "outputId": "270fd52f-593d-48f1-f9c1-2d13a4ad1510"
      },
      "source": [
        "line = f.readline()\n",
        "line"
      ],
      "execution_count": 4,
      "outputs": [
        {
          "output_type": "execute_result",
          "data": {
            "application/vnd.google.colaboratory.intrinsic+json": {
              "type": "string"
            },
            "text/plain": [
              "'NT|V2|V3|GB3|GB2|TA_YM|DAW_CCD_R|APV_TS_DL_TM_R|VLM|USEC\\n'"
            ]
          },
          "metadata": {
            "tags": []
          },
          "execution_count": 4
        }
      ]
    },
    {
      "cell_type": "code",
      "metadata": {
        "id": "m2U1rGNI9loj",
        "colab_type": "code",
        "colab": {}
      },
      "source": [
        "contents = []\n",
        "s_contents=[]\n",
        "with open('/content/drive/My Drive/빅데이터/신한카드 데이터/KCTI_FOREIGNER.txt', 'r') as f:\n",
        "    reader = csv.reader(f, delimiter = '\\t')\n",
        "    for row in f:\n",
        "        contents.append(row)\n",
        "\n"
      ],
      "execution_count": 5,
      "outputs": []
    },
    {
      "cell_type": "code",
      "metadata": {
        "id": "fxQRHDoF-5F3",
        "colab_type": "code",
        "colab": {}
      },
      "source": [
        "for i in range(len(contents)):\n",
        "  split = contents[i].split('|')\n",
        "  s_contents.append(split)"
      ],
      "execution_count": 6,
      "outputs": []
    },
    {
      "cell_type": "code",
      "metadata": {
        "id": "ijUKtxHd_GQI",
        "colab_type": "code",
        "colab": {}
      },
      "source": [
        "with open('/content/drive/My Drive/빅데이터/신한카드 데이터/sinhan_fore.csv', 'wt', encoding='utf-8') as f:\n",
        "    writer = csv.writer(f)\n",
        "    writer.writerows(s_contents)"
      ],
      "execution_count": 7,
      "outputs": []
    },
    {
      "cell_type": "code",
      "metadata": {
        "id": "SACEmPWQBPg-",
        "colab_type": "code",
        "colab": {}
      },
      "source": [
        "df = pd.read_csv('/content/drive/My Drive/빅데이터/신한카드 데이터/sinhan_fore.csv',encoding='utf-8')"
      ],
      "execution_count": 8,
      "outputs": []
    },
    {
      "cell_type": "code",
      "metadata": {
        "id": "vqu8BMcsBgaD",
        "colab_type": "code",
        "colab": {
          "base_uri": "https://localhost:8080/",
          "height": 202
        },
        "outputId": "fb13266d-537a-4bd8-b30e-876ea404a6d4"
      },
      "source": [
        "df.head()"
      ],
      "execution_count": 9,
      "outputs": [
        {
          "output_type": "execute_result",
          "data": {
            "text/html": [
              "<div>\n",
              "<style scoped>\n",
              "    .dataframe tbody tr th:only-of-type {\n",
              "        vertical-align: middle;\n",
              "    }\n",
              "\n",
              "    .dataframe tbody tr th {\n",
              "        vertical-align: top;\n",
              "    }\n",
              "\n",
              "    .dataframe thead th {\n",
              "        text-align: right;\n",
              "    }\n",
              "</style>\n",
              "<table border=\"1\" class=\"dataframe\">\n",
              "  <thead>\n",
              "    <tr style=\"text-align: right;\">\n",
              "      <th></th>\n",
              "      <th>NT</th>\n",
              "      <th>V2</th>\n",
              "      <th>V3</th>\n",
              "      <th>GB3</th>\n",
              "      <th>GB2</th>\n",
              "      <th>TA_YM</th>\n",
              "      <th>DAW_CCD_R</th>\n",
              "      <th>APV_TS_DL_TM_R</th>\n",
              "      <th>VLM</th>\n",
              "      <th>USEC\\n</th>\n",
              "    </tr>\n",
              "  </thead>\n",
              "  <tbody>\n",
              "    <tr>\n",
              "      <th>0</th>\n",
              "      <td>태국</td>\n",
              "      <td>서울</td>\n",
              "      <td>용산구</td>\n",
              "      <td>쇼핑</td>\n",
              "      <td>기타지출</td>\n",
              "      <td>201703</td>\n",
              "      <td>WHITE</td>\n",
              "      <td>기타</td>\n",
              "      <td>3917910</td>\n",
              "      <td>55</td>\n",
              "    </tr>\n",
              "    <tr>\n",
              "      <th>1</th>\n",
              "      <td>일본</td>\n",
              "      <td>서울</td>\n",
              "      <td>용산구</td>\n",
              "      <td>쇼핑</td>\n",
              "      <td>기타지출</td>\n",
              "      <td>201805</td>\n",
              "      <td>WHITE</td>\n",
              "      <td>기타</td>\n",
              "      <td>11586560</td>\n",
              "      <td>261</td>\n",
              "    </tr>\n",
              "    <tr>\n",
              "      <th>2</th>\n",
              "      <td>영국</td>\n",
              "      <td>서울</td>\n",
              "      <td>용산구</td>\n",
              "      <td>쇼핑</td>\n",
              "      <td>기타지출</td>\n",
              "      <td>201807</td>\n",
              "      <td>WHITE</td>\n",
              "      <td>기타</td>\n",
              "      <td>3483630</td>\n",
              "      <td>120</td>\n",
              "    </tr>\n",
              "    <tr>\n",
              "      <th>3</th>\n",
              "      <td>베트남</td>\n",
              "      <td>경기</td>\n",
              "      <td>오산시</td>\n",
              "      <td>쇼핑</td>\n",
              "      <td>기타지출</td>\n",
              "      <td>201705</td>\n",
              "      <td>WHITE</td>\n",
              "      <td>기타</td>\n",
              "      <td>12000</td>\n",
              "      <td>9</td>\n",
              "    </tr>\n",
              "    <tr>\n",
              "      <th>4</th>\n",
              "      <td>미국</td>\n",
              "      <td>서울</td>\n",
              "      <td>용산구</td>\n",
              "      <td>쇼핑</td>\n",
              "      <td>기타지출</td>\n",
              "      <td>201802</td>\n",
              "      <td>RED</td>\n",
              "      <td>기타</td>\n",
              "      <td>20831646</td>\n",
              "      <td>449</td>\n",
              "    </tr>\n",
              "  </tbody>\n",
              "</table>\n",
              "</div>"
            ],
            "text/plain": [
              "    NT  V2   V3 GB3   GB2   TA_YM DAW_CCD_R APV_TS_DL_TM_R       VLM  USEC\\n\n",
              "0   태국  서울  용산구  쇼핑  기타지출  201703     WHITE             기타   3917910      55\n",
              "1   일본  서울  용산구  쇼핑  기타지출  201805     WHITE             기타  11586560     261\n",
              "2   영국  서울  용산구  쇼핑  기타지출  201807     WHITE             기타   3483630     120\n",
              "3  베트남  경기  오산시  쇼핑  기타지출  201705     WHITE             기타     12000       9\n",
              "4   미국  서울  용산구  쇼핑  기타지출  201802       RED             기타  20831646     449"
            ]
          },
          "metadata": {
            "tags": []
          },
          "execution_count": 9
        }
      ]
    },
    {
      "cell_type": "code",
      "metadata": {
        "id": "gz-h8ZYDBie_",
        "colab_type": "code",
        "colab": {
          "base_uri": "https://localhost:8080/",
          "height": 353
        },
        "outputId": "52a9482c-5e18-40e3-f81e-5c77d39fe54f"
      },
      "source": [
        "df.info()"
      ],
      "execution_count": 10,
      "outputs": [
        {
          "output_type": "stream",
          "text": [
            "<class 'pandas.core.frame.DataFrame'>\n",
            "RangeIndex: 2730139 entries, 0 to 2730138\n",
            "Data columns (total 10 columns):\n",
            " #   Column          Dtype \n",
            "---  ------          ----- \n",
            " 0   NT              object\n",
            " 1   V2              object\n",
            " 2   V3              object\n",
            " 3   GB3             object\n",
            " 4   GB2             object\n",
            " 5   TA_YM           int64 \n",
            " 6   DAW_CCD_R       object\n",
            " 7   APV_TS_DL_TM_R  object\n",
            " 8   VLM             int64 \n",
            " 9   USEC\n",
            "           int64 \n",
            "dtypes: int64(3), object(7)\n",
            "memory usage: 208.3+ MB\n"
          ],
          "name": "stdout"
        }
      ]
    },
    {
      "cell_type": "code",
      "metadata": {
        "id": "3_049qEmB0ta",
        "colab_type": "code",
        "colab": {
          "base_uri": "https://localhost:8080/",
          "height": 223
        },
        "outputId": "6e665af3-f52f-41af-869a-f14b0860423e"
      },
      "source": [
        "df.isnull().sum()"
      ],
      "execution_count": 11,
      "outputs": [
        {
          "output_type": "execute_result",
          "data": {
            "text/plain": [
              "NT                0\n",
              "V2                0\n",
              "V3                0\n",
              "GB3               0\n",
              "GB2               0\n",
              "TA_YM             0\n",
              "DAW_CCD_R         0\n",
              "APV_TS_DL_TM_R    0\n",
              "VLM               0\n",
              "USEC\\n            0\n",
              "dtype: int64"
            ]
          },
          "metadata": {
            "tags": []
          },
          "execution_count": 11
        }
      ]
    },
    {
      "cell_type": "code",
      "metadata": {
        "id": "pLP8GMK1Jtpj",
        "colab_type": "code",
        "colab": {
          "base_uri": "https://localhost:8080/",
          "height": 409
        },
        "outputId": "0c5a5168-a235-48bc-fac2-1bf4397bf654"
      },
      "source": [
        "df['NT'].value_counts()"
      ],
      "execution_count": 12,
      "outputs": [
        {
          "output_type": "execute_result",
          "data": {
            "text/plain": [
              "미국         356477\n",
              "일본         235161\n",
              "중국         219838\n",
              "오스트레일리아    159675\n",
              "캐나다        156179\n",
              "러시아        152500\n",
              "영국         146092\n",
              "홍콩         131581\n",
              "싱가폴        124273\n",
              "독일         123245\n",
              "프랑스        120418\n",
              "대만         118335\n",
              "태국         116418\n",
              "베트남        106839\n",
              "말레이지아       88331\n",
              "인도네시아       82396\n",
              "필리핀         82139\n",
              "아랍에미레이트     79987\n",
              "카자흐스탄       73259\n",
              "몽고          56996\n",
              "Name: NT, dtype: int64"
            ]
          },
          "metadata": {
            "tags": []
          },
          "execution_count": 12
        }
      ]
    },
    {
      "cell_type": "code",
      "metadata": {
        "id": "omJHcLaRJ6rj",
        "colab_type": "code",
        "colab": {
          "base_uri": "https://localhost:8080/",
          "height": 202
        },
        "outputId": "31f3f0f1-e347-4124-bd4a-3c1ee07db646"
      },
      "source": [
        "df2 = df.drop('DAW_CCD_R',axis=1)\n",
        "df2.head()"
      ],
      "execution_count": 13,
      "outputs": [
        {
          "output_type": "execute_result",
          "data": {
            "text/html": [
              "<div>\n",
              "<style scoped>\n",
              "    .dataframe tbody tr th:only-of-type {\n",
              "        vertical-align: middle;\n",
              "    }\n",
              "\n",
              "    .dataframe tbody tr th {\n",
              "        vertical-align: top;\n",
              "    }\n",
              "\n",
              "    .dataframe thead th {\n",
              "        text-align: right;\n",
              "    }\n",
              "</style>\n",
              "<table border=\"1\" class=\"dataframe\">\n",
              "  <thead>\n",
              "    <tr style=\"text-align: right;\">\n",
              "      <th></th>\n",
              "      <th>NT</th>\n",
              "      <th>V2</th>\n",
              "      <th>V3</th>\n",
              "      <th>GB3</th>\n",
              "      <th>GB2</th>\n",
              "      <th>TA_YM</th>\n",
              "      <th>APV_TS_DL_TM_R</th>\n",
              "      <th>VLM</th>\n",
              "      <th>USEC\\n</th>\n",
              "    </tr>\n",
              "  </thead>\n",
              "  <tbody>\n",
              "    <tr>\n",
              "      <th>0</th>\n",
              "      <td>태국</td>\n",
              "      <td>서울</td>\n",
              "      <td>용산구</td>\n",
              "      <td>쇼핑</td>\n",
              "      <td>기타지출</td>\n",
              "      <td>201703</td>\n",
              "      <td>기타</td>\n",
              "      <td>3917910</td>\n",
              "      <td>55</td>\n",
              "    </tr>\n",
              "    <tr>\n",
              "      <th>1</th>\n",
              "      <td>일본</td>\n",
              "      <td>서울</td>\n",
              "      <td>용산구</td>\n",
              "      <td>쇼핑</td>\n",
              "      <td>기타지출</td>\n",
              "      <td>201805</td>\n",
              "      <td>기타</td>\n",
              "      <td>11586560</td>\n",
              "      <td>261</td>\n",
              "    </tr>\n",
              "    <tr>\n",
              "      <th>2</th>\n",
              "      <td>영국</td>\n",
              "      <td>서울</td>\n",
              "      <td>용산구</td>\n",
              "      <td>쇼핑</td>\n",
              "      <td>기타지출</td>\n",
              "      <td>201807</td>\n",
              "      <td>기타</td>\n",
              "      <td>3483630</td>\n",
              "      <td>120</td>\n",
              "    </tr>\n",
              "    <tr>\n",
              "      <th>3</th>\n",
              "      <td>베트남</td>\n",
              "      <td>경기</td>\n",
              "      <td>오산시</td>\n",
              "      <td>쇼핑</td>\n",
              "      <td>기타지출</td>\n",
              "      <td>201705</td>\n",
              "      <td>기타</td>\n",
              "      <td>12000</td>\n",
              "      <td>9</td>\n",
              "    </tr>\n",
              "    <tr>\n",
              "      <th>4</th>\n",
              "      <td>미국</td>\n",
              "      <td>서울</td>\n",
              "      <td>용산구</td>\n",
              "      <td>쇼핑</td>\n",
              "      <td>기타지출</td>\n",
              "      <td>201802</td>\n",
              "      <td>기타</td>\n",
              "      <td>20831646</td>\n",
              "      <td>449</td>\n",
              "    </tr>\n",
              "  </tbody>\n",
              "</table>\n",
              "</div>"
            ],
            "text/plain": [
              "    NT  V2   V3 GB3   GB2   TA_YM APV_TS_DL_TM_R       VLM  USEC\\n\n",
              "0   태국  서울  용산구  쇼핑  기타지출  201703             기타   3917910      55\n",
              "1   일본  서울  용산구  쇼핑  기타지출  201805             기타  11586560     261\n",
              "2   영국  서울  용산구  쇼핑  기타지출  201807             기타   3483630     120\n",
              "3  베트남  경기  오산시  쇼핑  기타지출  201705             기타     12000       9\n",
              "4   미국  서울  용산구  쇼핑  기타지출  201802             기타  20831646     449"
            ]
          },
          "metadata": {
            "tags": []
          },
          "execution_count": 13
        }
      ]
    },
    {
      "cell_type": "code",
      "metadata": {
        "id": "_nujbaajljgn",
        "colab_type": "code",
        "colab": {}
      },
      "source": [
        "m_df=df2[(df2['NT']=='인도네시아')|(df2['NT']=='아랍에미레이트')|(df2['NT']=='말레이지아')|(df2['NT']=='카자흐스탄')][['NT','V3','V3','GB3','GB2','VLM']]"
      ],
      "execution_count": 23,
      "outputs": []
    },
    {
      "cell_type": "code",
      "metadata": {
        "id": "62c-UK2Dlk6c",
        "colab_type": "code",
        "colab": {}
      },
      "source": [
        "m_df.to_csv('/content/drive/My Drive/빅데이터/신한카드 데이터/m_shinhan.csv')"
      ],
      "execution_count": 31,
      "outputs": []
    },
    {
      "cell_type": "code",
      "metadata": {
        "id": "uwO2p92CmgaG",
        "colab_type": "code",
        "colab": {}
      },
      "source": [
        ""
      ],
      "execution_count": 14,
      "outputs": []
    }
  ]
}