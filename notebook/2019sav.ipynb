{
  "nbformat": 4,
  "nbformat_minor": 0,
  "metadata": {
    "colab": {
      "name": "2019sav.ipynb",
      "provenance": [],
      "collapsed_sections": [],
      "mount_file_id": "1Wbt7tHyhCauySa3qL6E77Xim19iUSt4H",
      "authorship_tag": "ABX9TyP4pqMaN1iLjghPd0FXgMa+",
      "include_colab_link": true
    },
    "kernelspec": {
      "name": "python3",
      "display_name": "Python 3"
    }
  },
  "cells": [
    {
      "cell_type": "markdown",
      "metadata": {
        "id": "view-in-github",
        "colab_type": "text"
      },
      "source": [
        "<a href=\"https://colab.research.google.com/github/telecaster15/tourbigdata/blob/master/notebook/2019sav.ipynb\" target=\"_parent\"><img src=\"https://colab.research.google.com/assets/colab-badge.svg\" alt=\"Open In Colab\"/></a>"
      ]
    },
    {
      "cell_type": "code",
      "metadata": {
        "id": "prBdN2d-YJIM",
        "colab_type": "code",
        "colab": {
          "base_uri": "https://localhost:8080/",
          "height": 129
        },
        "outputId": "bc555283-46bc-405a-dfd0-160756b907df"
      },
      "source": [
        "#pip install pyreadstat"
      ],
      "execution_count": null,
      "outputs": [
        {
          "output_type": "stream",
          "text": [
            "Requirement already satisfied: pyreadstat in /usr/local/lib/python3.6/dist-packages (1.0.0)\n",
            "Requirement already satisfied: pandas>0.24.0 in /usr/local/lib/python3.6/dist-packages (from pyreadstat) (1.0.5)\n",
            "Requirement already satisfied: python-dateutil>=2.6.1 in /usr/local/lib/python3.6/dist-packages (from pandas>0.24.0->pyreadstat) (2.8.1)\n",
            "Requirement already satisfied: numpy>=1.13.3 in /usr/local/lib/python3.6/dist-packages (from pandas>0.24.0->pyreadstat) (1.18.5)\n",
            "Requirement already satisfied: pytz>=2017.2 in /usr/local/lib/python3.6/dist-packages (from pandas>0.24.0->pyreadstat) (2018.9)\n",
            "Requirement already satisfied: six>=1.5 in /usr/local/lib/python3.6/dist-packages (from python-dateutil>=2.6.1->pandas>0.24.0->pyreadstat) (1.15.0)\n"
          ],
          "name": "stdout"
        }
      ]
    },
    {
      "cell_type": "code",
      "metadata": {
        "id": "XcxGbUubXeET",
        "colab_type": "code",
        "colab": {}
      },
      "source": [
        "import pyreadstat"
      ],
      "execution_count": null,
      "outputs": []
    },
    {
      "cell_type": "code",
      "metadata": {
        "id": "i4LEx5WjYFm6",
        "colab_type": "code",
        "colab": {}
      },
      "source": [
        "df,meta = pyreadstat.read_sav('/content/drive/My Drive/빅데이터/DATA_2019_외래관광객조사.sav')"
      ],
      "execution_count": null,
      "outputs": []
    },
    {
      "cell_type": "code",
      "metadata": {
        "id": "PgKBAERvYYvU",
        "colab_type": "code",
        "colab": {
          "base_uri": "https://localhost:8080/",
          "height": 255
        },
        "outputId": "51d1b5c0-e763-4e69-d9ad-b70f75b3dc85"
      },
      "source": [
        "df.head()"
      ],
      "execution_count": null,
      "outputs": [
        {
          "output_type": "execute_result",
          "data": {
            "text/html": [
              "<div>\n",
              "<style scoped>\n",
              "    .dataframe tbody tr th:only-of-type {\n",
              "        vertical-align: middle;\n",
              "    }\n",
              "\n",
              "    .dataframe tbody tr th {\n",
              "        vertical-align: top;\n",
              "    }\n",
              "\n",
              "    .dataframe thead th {\n",
              "        text-align: right;\n",
              "    }\n",
              "</style>\n",
              "<table border=\"1\" class=\"dataframe\">\n",
              "  <thead>\n",
              "    <tr style=\"text-align: right;\">\n",
              "      <th></th>\n",
              "      <th>Q1</th>\n",
              "      <th>Q2A1</th>\n",
              "      <th>Q2A2</th>\n",
              "      <th>Q2A3</th>\n",
              "      <th>Q2A4</th>\n",
              "      <th>Q2A5</th>\n",
              "      <th>Q2_1</th>\n",
              "      <th>Q3A1</th>\n",
              "      <th>Q3A2</th>\n",
              "      <th>Q3A3</th>\n",
              "      <th>Q3A4</th>\n",
              "      <th>Q3B1</th>\n",
              "      <th>Q3B2</th>\n",
              "      <th>Q4</th>\n",
              "      <th>Q4_1A1</th>\n",
              "      <th>Q4_1A2</th>\n",
              "      <th>Q4_1A3</th>\n",
              "      <th>Q4_1A4</th>\n",
              "      <th>Q4_1A5</th>\n",
              "      <th>Q4_1A6</th>\n",
              "      <th>Q4_1A7</th>\n",
              "      <th>Q4_1A8</th>\n",
              "      <th>Q4_1A9</th>\n",
              "      <th>Q4_1A10</th>\n",
              "      <th>Q5_1</th>\n",
              "      <th>Q5_2A1</th>\n",
              "      <th>Q5_2A2</th>\n",
              "      <th>Q5_2A3</th>\n",
              "      <th>Q6_1A1</th>\n",
              "      <th>Q6_1A2</th>\n",
              "      <th>Q6_1A3</th>\n",
              "      <th>Q6_2A1</th>\n",
              "      <th>Q6_2A2</th>\n",
              "      <th>Q6_2A3</th>\n",
              "      <th>Q6_3A1</th>\n",
              "      <th>Q6_3A2</th>\n",
              "      <th>Q6_3A3</th>\n",
              "      <th>Q7</th>\n",
              "      <th>Q8A1</th>\n",
              "      <th>Q8A2</th>\n",
              "      <th>...</th>\n",
              "      <th>GA_CQ14_2_8</th>\n",
              "      <th>GA_CQ14_2_9</th>\n",
              "      <th>GA_CQ14_2_10</th>\n",
              "      <th>DAY_MQ14_1T</th>\n",
              "      <th>DAY_I_MQ14_1T</th>\n",
              "      <th>DAY_A_MQ14_1T</th>\n",
              "      <th>DAY_GA_MQ14_1T</th>\n",
              "      <th>DAY_CQ14_1T</th>\n",
              "      <th>DAY_I_CQ14_1T</th>\n",
              "      <th>DAY_A_CQ14_1T</th>\n",
              "      <th>DAY_GA_CQ14_1T</th>\n",
              "      <th>Q15_1</th>\n",
              "      <th>Q15_2A1</th>\n",
              "      <th>Q15_2A2</th>\n",
              "      <th>Q15_2A3</th>\n",
              "      <th>Q15_2A4</th>\n",
              "      <th>Q15_2A5</th>\n",
              "      <th>Q15_2A6</th>\n",
              "      <th>Q15_2A7</th>\n",
              "      <th>Q15_2A8</th>\n",
              "      <th>Q15_2A9</th>\n",
              "      <th>Q15_2A10</th>\n",
              "      <th>Q15_2A11</th>\n",
              "      <th>Q15_2A12</th>\n",
              "      <th>Q16</th>\n",
              "      <th>Q17</th>\n",
              "      <th>Q18</th>\n",
              "      <th>ID</th>\n",
              "      <th>D_MON</th>\n",
              "      <th>D_QUA</th>\n",
              "      <th>D_COU1</th>\n",
              "      <th>D_COU2</th>\n",
              "      <th>D_GEN</th>\n",
              "      <th>D_AGE</th>\n",
              "      <th>D_Q5_1</th>\n",
              "      <th>D_Q12</th>\n",
              "      <th>D_Q1</th>\n",
              "      <th>D_Q1A</th>\n",
              "      <th>CITY</th>\n",
              "      <th>WT</th>\n",
              "    </tr>\n",
              "  </thead>\n",
              "  <tbody>\n",
              "    <tr>\n",
              "      <th>0</th>\n",
              "      <td>2.0</td>\n",
              "      <td>3.0</td>\n",
              "      <td>NaN</td>\n",
              "      <td>NaN</td>\n",
              "      <td>NaN</td>\n",
              "      <td>NaN</td>\n",
              "      <td>2.0</td>\n",
              "      <td>1.0</td>\n",
              "      <td>NaN</td>\n",
              "      <td>NaN</td>\n",
              "      <td>NaN</td>\n",
              "      <td>98.0</td>\n",
              "      <td>98.0</td>\n",
              "      <td>1.0</td>\n",
              "      <td>NaN</td>\n",
              "      <td>NaN</td>\n",
              "      <td>NaN</td>\n",
              "      <td>NaN</td>\n",
              "      <td>NaN</td>\n",
              "      <td>NaN</td>\n",
              "      <td>NaN</td>\n",
              "      <td>NaN</td>\n",
              "      <td>NaN</td>\n",
              "      <td>NaN</td>\n",
              "      <td>1.0</td>\n",
              "      <td>2.0</td>\n",
              "      <td>1.0</td>\n",
              "      <td>6.0</td>\n",
              "      <td>1.0</td>\n",
              "      <td>2.0</td>\n",
              "      <td>NaN</td>\n",
              "      <td>1.0</td>\n",
              "      <td>4.0</td>\n",
              "      <td>5.0</td>\n",
              "      <td>3.0</td>\n",
              "      <td>4.0</td>\n",
              "      <td>NaN</td>\n",
              "      <td>4.0</td>\n",
              "      <td>1.0</td>\n",
              "      <td>NaN</td>\n",
              "      <td>...</td>\n",
              "      <td>NaN</td>\n",
              "      <td>NaN</td>\n",
              "      <td>NaN</td>\n",
              "      <td>194.560</td>\n",
              "      <td>194.560</td>\n",
              "      <td>NaN</td>\n",
              "      <td>NaN</td>\n",
              "      <td>2.0</td>\n",
              "      <td>2.0</td>\n",
              "      <td>NaN</td>\n",
              "      <td>NaN</td>\n",
              "      <td>5.0</td>\n",
              "      <td>2.0</td>\n",
              "      <td>4.0</td>\n",
              "      <td>4.0</td>\n",
              "      <td>5.0</td>\n",
              "      <td>5.0</td>\n",
              "      <td>3.0</td>\n",
              "      <td>5.0</td>\n",
              "      <td>4.0</td>\n",
              "      <td>4.0</td>\n",
              "      <td>4.0</td>\n",
              "      <td>4.0</td>\n",
              "      <td>3.0</td>\n",
              "      <td>5.0</td>\n",
              "      <td>5.0</td>\n",
              "      <td>NaN</td>\n",
              "      <td>1201016.0</td>\n",
              "      <td>12.0</td>\n",
              "      <td>4.0</td>\n",
              "      <td>1.0</td>\n",
              "      <td>NaN</td>\n",
              "      <td>2.0</td>\n",
              "      <td>2.0</td>\n",
              "      <td>1.0</td>\n",
              "      <td>1.0</td>\n",
              "      <td>2.0</td>\n",
              "      <td>2.0</td>\n",
              "      <td>1.0</td>\n",
              "      <td>1.444420</td>\n",
              "    </tr>\n",
              "    <tr>\n",
              "      <th>1</th>\n",
              "      <td>1.0</td>\n",
              "      <td>3.0</td>\n",
              "      <td>NaN</td>\n",
              "      <td>NaN</td>\n",
              "      <td>NaN</td>\n",
              "      <td>NaN</td>\n",
              "      <td>3.0</td>\n",
              "      <td>1.0</td>\n",
              "      <td>NaN</td>\n",
              "      <td>NaN</td>\n",
              "      <td>NaN</td>\n",
              "      <td>98.0</td>\n",
              "      <td>98.0</td>\n",
              "      <td>1.0</td>\n",
              "      <td>NaN</td>\n",
              "      <td>NaN</td>\n",
              "      <td>NaN</td>\n",
              "      <td>NaN</td>\n",
              "      <td>NaN</td>\n",
              "      <td>NaN</td>\n",
              "      <td>NaN</td>\n",
              "      <td>NaN</td>\n",
              "      <td>NaN</td>\n",
              "      <td>NaN</td>\n",
              "      <td>1.0</td>\n",
              "      <td>2.0</td>\n",
              "      <td>1.0</td>\n",
              "      <td>NaN</td>\n",
              "      <td>1.0</td>\n",
              "      <td>5.0</td>\n",
              "      <td>6.0</td>\n",
              "      <td>1.0</td>\n",
              "      <td>2.0</td>\n",
              "      <td>3.0</td>\n",
              "      <td>4.0</td>\n",
              "      <td>2.0</td>\n",
              "      <td>1.0</td>\n",
              "      <td>4.0</td>\n",
              "      <td>1.0</td>\n",
              "      <td>7.0</td>\n",
              "      <td>...</td>\n",
              "      <td>NaN</td>\n",
              "      <td>NaN</td>\n",
              "      <td>NaN</td>\n",
              "      <td>144.400</td>\n",
              "      <td>144.400</td>\n",
              "      <td>NaN</td>\n",
              "      <td>NaN</td>\n",
              "      <td>2.0</td>\n",
              "      <td>2.0</td>\n",
              "      <td>NaN</td>\n",
              "      <td>NaN</td>\n",
              "      <td>5.0</td>\n",
              "      <td>3.0</td>\n",
              "      <td>3.0</td>\n",
              "      <td>5.0</td>\n",
              "      <td>5.0</td>\n",
              "      <td>5.0</td>\n",
              "      <td>5.0</td>\n",
              "      <td>5.0</td>\n",
              "      <td>5.0</td>\n",
              "      <td>5.0</td>\n",
              "      <td>4.0</td>\n",
              "      <td>2.0</td>\n",
              "      <td>3.0</td>\n",
              "      <td>5.0</td>\n",
              "      <td>5.0</td>\n",
              "      <td>NaN</td>\n",
              "      <td>1201017.0</td>\n",
              "      <td>12.0</td>\n",
              "      <td>4.0</td>\n",
              "      <td>1.0</td>\n",
              "      <td>NaN</td>\n",
              "      <td>2.0</td>\n",
              "      <td>2.0</td>\n",
              "      <td>1.0</td>\n",
              "      <td>1.0</td>\n",
              "      <td>1.0</td>\n",
              "      <td>1.0</td>\n",
              "      <td>1.0</td>\n",
              "      <td>1.444420</td>\n",
              "    </tr>\n",
              "    <tr>\n",
              "      <th>2</th>\n",
              "      <td>3.0</td>\n",
              "      <td>3.0</td>\n",
              "      <td>NaN</td>\n",
              "      <td>NaN</td>\n",
              "      <td>NaN</td>\n",
              "      <td>NaN</td>\n",
              "      <td>3.0</td>\n",
              "      <td>1.0</td>\n",
              "      <td>NaN</td>\n",
              "      <td>NaN</td>\n",
              "      <td>NaN</td>\n",
              "      <td>98.0</td>\n",
              "      <td>98.0</td>\n",
              "      <td>1.0</td>\n",
              "      <td>NaN</td>\n",
              "      <td>NaN</td>\n",
              "      <td>NaN</td>\n",
              "      <td>NaN</td>\n",
              "      <td>NaN</td>\n",
              "      <td>NaN</td>\n",
              "      <td>NaN</td>\n",
              "      <td>NaN</td>\n",
              "      <td>NaN</td>\n",
              "      <td>NaN</td>\n",
              "      <td>1.0</td>\n",
              "      <td>2.0</td>\n",
              "      <td>5.0</td>\n",
              "      <td>NaN</td>\n",
              "      <td>1.0</td>\n",
              "      <td>6.0</td>\n",
              "      <td>NaN</td>\n",
              "      <td>1.0</td>\n",
              "      <td>2.0</td>\n",
              "      <td>NaN</td>\n",
              "      <td>3.0</td>\n",
              "      <td>4.0</td>\n",
              "      <td>NaN</td>\n",
              "      <td>1.0</td>\n",
              "      <td>1.0</td>\n",
              "      <td>NaN</td>\n",
              "      <td>...</td>\n",
              "      <td>NaN</td>\n",
              "      <td>NaN</td>\n",
              "      <td>NaN</td>\n",
              "      <td>214.320</td>\n",
              "      <td>214.320</td>\n",
              "      <td>NaN</td>\n",
              "      <td>NaN</td>\n",
              "      <td>3.0</td>\n",
              "      <td>3.0</td>\n",
              "      <td>NaN</td>\n",
              "      <td>NaN</td>\n",
              "      <td>4.0</td>\n",
              "      <td>3.0</td>\n",
              "      <td>4.0</td>\n",
              "      <td>3.0</td>\n",
              "      <td>4.0</td>\n",
              "      <td>4.0</td>\n",
              "      <td>4.0</td>\n",
              "      <td>3.0</td>\n",
              "      <td>3.0</td>\n",
              "      <td>4.0</td>\n",
              "      <td>3.0</td>\n",
              "      <td>4.0</td>\n",
              "      <td>4.0</td>\n",
              "      <td>3.0</td>\n",
              "      <td>4.0</td>\n",
              "      <td>NaN</td>\n",
              "      <td>1201018.0</td>\n",
              "      <td>12.0</td>\n",
              "      <td>4.0</td>\n",
              "      <td>1.0</td>\n",
              "      <td>NaN</td>\n",
              "      <td>1.0</td>\n",
              "      <td>2.0</td>\n",
              "      <td>1.0</td>\n",
              "      <td>1.0</td>\n",
              "      <td>3.0</td>\n",
              "      <td>2.0</td>\n",
              "      <td>1.0</td>\n",
              "      <td>1.472539</td>\n",
              "    </tr>\n",
              "    <tr>\n",
              "      <th>3</th>\n",
              "      <td>10.0</td>\n",
              "      <td>1.0</td>\n",
              "      <td>NaN</td>\n",
              "      <td>NaN</td>\n",
              "      <td>NaN</td>\n",
              "      <td>NaN</td>\n",
              "      <td>NaN</td>\n",
              "      <td>1.0</td>\n",
              "      <td>NaN</td>\n",
              "      <td>NaN</td>\n",
              "      <td>NaN</td>\n",
              "      <td>98.0</td>\n",
              "      <td>98.0</td>\n",
              "      <td>1.0</td>\n",
              "      <td>NaN</td>\n",
              "      <td>NaN</td>\n",
              "      <td>NaN</td>\n",
              "      <td>NaN</td>\n",
              "      <td>NaN</td>\n",
              "      <td>NaN</td>\n",
              "      <td>NaN</td>\n",
              "      <td>NaN</td>\n",
              "      <td>NaN</td>\n",
              "      <td>NaN</td>\n",
              "      <td>1.0</td>\n",
              "      <td>2.0</td>\n",
              "      <td>5.0</td>\n",
              "      <td>NaN</td>\n",
              "      <td>1.0</td>\n",
              "      <td>5.0</td>\n",
              "      <td>2.0</td>\n",
              "      <td>2.0</td>\n",
              "      <td>1.0</td>\n",
              "      <td>3.0</td>\n",
              "      <td>2.0</td>\n",
              "      <td>4.0</td>\n",
              "      <td>8.0</td>\n",
              "      <td>2.0</td>\n",
              "      <td>1.0</td>\n",
              "      <td>NaN</td>\n",
              "      <td>...</td>\n",
              "      <td>NaN</td>\n",
              "      <td>NaN</td>\n",
              "      <td>NaN</td>\n",
              "      <td>108.224</td>\n",
              "      <td>108.224</td>\n",
              "      <td>NaN</td>\n",
              "      <td>NaN</td>\n",
              "      <td>2.0</td>\n",
              "      <td>2.0</td>\n",
              "      <td>NaN</td>\n",
              "      <td>NaN</td>\n",
              "      <td>4.0</td>\n",
              "      <td>2.0</td>\n",
              "      <td>5.0</td>\n",
              "      <td>5.0</td>\n",
              "      <td>5.0</td>\n",
              "      <td>5.0</td>\n",
              "      <td>4.0</td>\n",
              "      <td>5.0</td>\n",
              "      <td>5.0</td>\n",
              "      <td>5.0</td>\n",
              "      <td>5.0</td>\n",
              "      <td>4.0</td>\n",
              "      <td>0.0</td>\n",
              "      <td>2.0</td>\n",
              "      <td>4.0</td>\n",
              "      <td>NaN</td>\n",
              "      <td>1201019.0</td>\n",
              "      <td>12.0</td>\n",
              "      <td>4.0</td>\n",
              "      <td>1.0</td>\n",
              "      <td>NaN</td>\n",
              "      <td>2.0</td>\n",
              "      <td>3.0</td>\n",
              "      <td>1.0</td>\n",
              "      <td>1.0</td>\n",
              "      <td>4.0</td>\n",
              "      <td>2.0</td>\n",
              "      <td>1.0</td>\n",
              "      <td>1.923248</td>\n",
              "    </tr>\n",
              "    <tr>\n",
              "      <th>4</th>\n",
              "      <td>1.0</td>\n",
              "      <td>3.0</td>\n",
              "      <td>NaN</td>\n",
              "      <td>NaN</td>\n",
              "      <td>NaN</td>\n",
              "      <td>NaN</td>\n",
              "      <td>2.0</td>\n",
              "      <td>1.0</td>\n",
              "      <td>NaN</td>\n",
              "      <td>NaN</td>\n",
              "      <td>NaN</td>\n",
              "      <td>98.0</td>\n",
              "      <td>98.0</td>\n",
              "      <td>1.0</td>\n",
              "      <td>NaN</td>\n",
              "      <td>NaN</td>\n",
              "      <td>NaN</td>\n",
              "      <td>NaN</td>\n",
              "      <td>NaN</td>\n",
              "      <td>NaN</td>\n",
              "      <td>NaN</td>\n",
              "      <td>NaN</td>\n",
              "      <td>NaN</td>\n",
              "      <td>NaN</td>\n",
              "      <td>1.0</td>\n",
              "      <td>1.0</td>\n",
              "      <td>2.0</td>\n",
              "      <td>NaN</td>\n",
              "      <td>2.0</td>\n",
              "      <td>1.0</td>\n",
              "      <td>7.0</td>\n",
              "      <td>1.0</td>\n",
              "      <td>3.0</td>\n",
              "      <td>7.0</td>\n",
              "      <td>1.0</td>\n",
              "      <td>2.0</td>\n",
              "      <td>5.0</td>\n",
              "      <td>4.0</td>\n",
              "      <td>1.0</td>\n",
              "      <td>5.0</td>\n",
              "      <td>...</td>\n",
              "      <td>2.0</td>\n",
              "      <td>1.0</td>\n",
              "      <td>1.0</td>\n",
              "      <td>116.280</td>\n",
              "      <td>NaN</td>\n",
              "      <td>NaN</td>\n",
              "      <td>116.28</td>\n",
              "      <td>2.0</td>\n",
              "      <td>NaN</td>\n",
              "      <td>NaN</td>\n",
              "      <td>2.0</td>\n",
              "      <td>4.0</td>\n",
              "      <td>4.0</td>\n",
              "      <td>4.0</td>\n",
              "      <td>5.0</td>\n",
              "      <td>5.0</td>\n",
              "      <td>5.0</td>\n",
              "      <td>3.0</td>\n",
              "      <td>4.0</td>\n",
              "      <td>4.0</td>\n",
              "      <td>4.0</td>\n",
              "      <td>2.0</td>\n",
              "      <td>3.0</td>\n",
              "      <td>3.0</td>\n",
              "      <td>5.0</td>\n",
              "      <td>5.0</td>\n",
              "      <td>NaN</td>\n",
              "      <td>1201020.0</td>\n",
              "      <td>12.0</td>\n",
              "      <td>4.0</td>\n",
              "      <td>1.0</td>\n",
              "      <td>NaN</td>\n",
              "      <td>1.0</td>\n",
              "      <td>2.0</td>\n",
              "      <td>1.0</td>\n",
              "      <td>3.0</td>\n",
              "      <td>1.0</td>\n",
              "      <td>1.0</td>\n",
              "      <td>1.0</td>\n",
              "      <td>1.472539</td>\n",
              "    </tr>\n",
              "  </tbody>\n",
              "</table>\n",
              "<p>5 rows × 439 columns</p>\n",
              "</div>"
            ],
            "text/plain": [
              "     Q1  Q2A1  Q2A2  Q2A3  Q2A4  ...  D_Q12  D_Q1  D_Q1A  CITY        WT\n",
              "0   2.0   3.0   NaN   NaN   NaN  ...    1.0   2.0    2.0   1.0  1.444420\n",
              "1   1.0   3.0   NaN   NaN   NaN  ...    1.0   1.0    1.0   1.0  1.444420\n",
              "2   3.0   3.0   NaN   NaN   NaN  ...    1.0   3.0    2.0   1.0  1.472539\n",
              "3  10.0   1.0   NaN   NaN   NaN  ...    1.0   4.0    2.0   1.0  1.923248\n",
              "4   1.0   3.0   NaN   NaN   NaN  ...    3.0   1.0    1.0   1.0  1.472539\n",
              "\n",
              "[5 rows x 439 columns]"
            ]
          },
          "metadata": {
            "tags": []
          },
          "execution_count": 11
        }
      ]
    },
    {
      "cell_type": "code",
      "metadata": {
        "id": "r7giPucWZBgG",
        "colab_type": "code",
        "colab": {
          "base_uri": "https://localhost:8080/",
          "height": 36
        },
        "outputId": "595ed301-1ee4-484c-9091-0816a8e3ccee"
      },
      "source": [
        "type(df)"
      ],
      "execution_count": null,
      "outputs": [
        {
          "output_type": "execute_result",
          "data": {
            "text/plain": [
              "pandas.core.frame.DataFrame"
            ]
          },
          "metadata": {
            "tags": []
          },
          "execution_count": 12
        }
      ]
    },
    {
      "cell_type": "code",
      "metadata": {
        "id": "3cCg-tZnZOsT",
        "colab_type": "code",
        "colab": {
          "base_uri": "https://localhost:8080/",
          "height": 36
        },
        "outputId": "c85d4bfd-f9e7-49dc-d361-997a505c6d59"
      },
      "source": [
        "type(meta)"
      ],
      "execution_count": null,
      "outputs": [
        {
          "output_type": "execute_result",
          "data": {
            "text/plain": [
              "pyreadstat._readstat_parser.metadata_container"
            ]
          },
          "metadata": {
            "tags": []
          },
          "execution_count": 13
        }
      ]
    },
    {
      "cell_type": "code",
      "metadata": {
        "id": "5Z9Pm0pctdr1",
        "colab_type": "code",
        "colab": {
          "base_uri": "https://localhost:8080/",
          "height": 36
        },
        "outputId": "3e77fd36-6e1d-4dc4-b266-32d59beda0b1"
      },
      "source": [
        "meta.file_encoding"
      ],
      "execution_count": null,
      "outputs": [
        {
          "output_type": "execute_result",
          "data": {
            "application/vnd.google.colaboratory.intrinsic+json": {
              "type": "string"
            },
            "text/plain": [
              "'EUC-KR'"
            ]
          },
          "metadata": {
            "tags": []
          },
          "execution_count": 73
        }
      ]
    },
    {
      "cell_type": "code",
      "metadata": {
        "id": "yVyneeiuuFxX",
        "colab_type": "code",
        "colab": {}
      },
      "source": [
        "df.columns = meta.column_names"
      ],
      "execution_count": null,
      "outputs": []
    },
    {
      "cell_type": "markdown",
      "metadata": {
        "id": "WJ6H72tGyj9x",
        "colab_type": "text"
      },
      "source": [
        "<b>컬럼 리스트</b>\n",
        "- 국가별(중동3개 권역) : D_COU2 (15.1: 중앙아시아\t15.2: GCC\t15.3: 기타중동)\n",
        "\n",
        "- 방한목적별 : D_Q5_1 (1: 여가, 위락, 휴가\t2: 친구, 친지 방문\t3: 사업 또는 전문활동 4: 교육\t5: 종교 및 순례\t6: 기타)\n",
        "\n",
        "- 여행형태별 : D_Q12 (1: 개별여행\t2: 단체여행\t3: Air-Tel Tour)\n",
        "\n",
        "- 성별 : D_GEN(1: 남성\t2: 여성\n",
        ")\n",
        "\n",
        "- 연령별 : D_AGE (1: 15-20세\t2: 21-30세\t3: 31-40세\t4: 41-50세\n",
        "5: 51-60세\t6: 61세 이상\t)\n",
        "\n",
        "- 동반자 현황 : Q2A1~Q2A5 ( 1: 혼자 방문\t2: 가족/친지\t3: 친구/연인\n",
        "4: 직장동료\t5: 기타\t )\n",
        "\n",
        "- 한국 방문 선택 시 고려 요인 : Q5_2A1~\n",
        "Q5_2A3 ( 1: 음식/미식 탐방\t2: 쇼핑\t3: 자연 풍경 감상\n",
        "4: 역사/문화 유적/\n",
        "   전통문화 체험\t5: 패션, 유행 등 \n",
        "   세련된 현대 문화 체험\t6: K-POP/한류스타 관련\n",
        "   팬 미팅, 촬영지 등 경험\n",
        "7: 유흥/놀이 시설 체험\t8: 치료 및 미용 서비스 체험\t9: 레저 및 스포츠 활동\n",
        "10: 휴가 시간\t11: 자국과의 이동 거리\t12: 경제적인 여행비용\n",
        "13: 기타\t\t )\n",
        "\n",
        "- 주요 참여 활동 : Q9_1A1 ~\n",
        " Q9_1A20 ( 1: 식도락 관광\t2: 쇼핑\t3: 자연경관 감상\n",
        "4: 고궁/역사 유적지 방문\t5: 전통문화체험\t6: 박물관, 전시관 방문\n",
        "7: K-POP/한류스타 관련 \n",
        "공연장 및 드라마 촬영지 방문\t8: 유흥/오락\t9: 뷰티/의료관광\n",
        "10: 스포츠/레저 관람 및 참가\t11: 업무수행\t12: 연수·교육·연구\n",
        "13: 시찰\t14: 기타\t )\n",
        "\n",
        "- 가장 만족한 활동1~3 : Q9_2A1 ~\n",
        " Q9_2A3 ( 1: 식도락 관광\t2: 쇼핑\t3: 자연경관 감상\n",
        "4: 고궁/역사 유적지 방문\t5: 전통문화체험\t6: 박물관, 전시관 방문\n",
        "7: K-POP/한류스타 관련 \n",
        "공연장 및 드라마 촬영지 방문\t8: 유흥/오락\t9: 뷰티/의료관광\n",
        "10: 스포츠/레저 관람 및 참가\t11: 업무수행\t12: 연수·교육·연구\n",
        "13: 시찰\t14: 기타 )\n",
        "\n",
        "- 재방문여부별 : D_Q1A (1: 처음 방문\t2: 재방문\n",
        ")\n",
        "\n",
        "- 향후 3년 내 관광목적 재방문 의향 : Q16 (1: 전혀 그렇지 않다\t2: 그렇지 않다\t3: 보통\n",
        "4: 그렇다\t5: 매우 그렇다\t)\n",
        "\n"
      ]
    },
    {
      "cell_type": "code",
      "metadata": {
        "id": "jlj0tEem0SZ6",
        "colab_type": "code",
        "colab": {
          "base_uri": "https://localhost:8080/",
          "height": 1000
        },
        "outputId": "ced504df-5455-451d-8ea8-3d256c059ddd"
      },
      "source": [
        "meta.column_names_to_labels"
      ],
      "execution_count": null,
      "outputs": [
        {
          "output_type": "execute_result",
          "data": {
            "text/plain": [
              "{'A_CQ14_1T': '문14-1. 여행형태별 1인 평균 지출 경비_Air-Tel_총액(카테고리)',\n",
              " 'A_CQ14_2_10': '문14-1. 여행형태별 1인 평균 지출 경비_Air-Tel_항목별_기타(카테고리)',\n",
              " 'A_CQ14_2_2': '문14-1. 여행형태별 1인 평균 지출 경비_Air-Tel_항목별_본인 거주국 지불경비(카테고리)',\n",
              " 'A_CQ14_2_3': '문14-1. 여행형태별 1인 평균 지출 경비_Air-Tel_항목별_쇼핑비(카테고리)',\n",
              " 'A_CQ14_2_4': '문14-1. 여행형태별 1인 평균 지출 경비_Air-Tel_항목별_식음료비(카테고리)',\n",
              " 'A_CQ14_2_5': '문14-1. 여행형태별 1인 평균 지출 경비_Air-Tel_항목별_현지 교통비(카테고리)',\n",
              " 'A_CQ14_2_6': '문14-1. 여행형태별 1인 평균 지출 경비_Air-Tel_항목별_한국 여행사 지불비(카테고리)',\n",
              " 'A_CQ14_2_7': '문14-1. 여행형태별 1인 평균 지출 경비_Air-Tel_항목별_문화, 오락 관련 지출(카테고리)',\n",
              " 'A_CQ14_2_8': '문14-1. 여행형태별 1인 평균 지출 경비_Air-Tel_항목별_데이터 통신비(카테고리)',\n",
              " 'A_CQ14_2_9': '문14-1. 여행형태별 1인 평균 지출 경비_Air-Tel_항목별_치료비(카테고리)',\n",
              " 'A_MQ14_1T': '문14-1. 여행형태별 1인 평균 지출 경비_Air-Tel_총액(최대금액 결측)',\n",
              " 'A_MQ14_2_10': '문14-1. 여행형태별 1인 평균 지출 경비_Air-Tel_항목별_기타(최대금액 결측)',\n",
              " 'A_MQ14_2_2': '문14-1. 여행형태별 1인 평균 지출 경비_Air-Tel_항목별_본인 거주국 지불경비(최대금액 결측)',\n",
              " 'A_MQ14_2_3': '문14-1. 여행형태별 1인 평균 지출 경비_Air-Tel_항목별_쇼핑비(최대금액 결측)',\n",
              " 'A_MQ14_2_4': '문14-1. 여행형태별 1인 평균 지출 경비_Air-Tel_항목별_식음료비(최대금액 결측)',\n",
              " 'A_MQ14_2_5': '문14-1. 여행형태별 1인 평균 지출 경비_Air-Tel_항목별_현지 교통비(최대금액 결측)',\n",
              " 'A_MQ14_2_6': '문14-1. 여행형태별 1인 평균 지출 경비_Air-Tel_항목별_한국 여행사 지불비(최대금액 결측)',\n",
              " 'A_MQ14_2_7': '문14-1. 여행형태별 1인 평균 지출 경비_Air-Tel_항목별_문화, 오락 관련 지출(최대금액 결측)',\n",
              " 'A_MQ14_2_8': '문14-1. 여행형태별 1인 평균 지출 경비_Air-Tel_항목별_데이터 통신비(최대금액 결측)',\n",
              " 'A_MQ14_2_9': '문14-1. 여행형태별 1인 평균 지출 경비_Air-Tel_항목별_치료비(최대금액 결측)',\n",
              " 'A_Q14_1T': '문14-1. 여행형태별 1인 평균 지출 경비_Air-Tel_총액(원자료)',\n",
              " 'A_Q14_2_10': '문14-1. 여행형태별 1인 평균 지출 경비_Air-Tel_항목별_기타(원자료)',\n",
              " 'A_Q14_2_2': '문14-1. 여행형태별 1인 평균 지출 경비_Air-Tel_항목별_본인 거주국 지불경비(원자료)',\n",
              " 'A_Q14_2_3': '문14-1. 여행형태별 1인 평균 지출 경비_Air-Tel_항목별_쇼핑비(원자료)',\n",
              " 'A_Q14_2_4': '문14-1. 여행형태별 1인 평균 지출 경비_Air-Tel_항목별_식음료비(원자료)',\n",
              " 'A_Q14_2_5': '문14-1. 여행형태별 1인 평균 지출 경비_Air-Tel_항목별_현지 교통비(원자료)',\n",
              " 'A_Q14_2_6': '문14-1. 여행형태별 1인 평균 지출 경비_Air-Tel_항목별_한국 여행사 지불비(원자료)',\n",
              " 'A_Q14_2_7': '문14-1. 여행형태별 1인 평균 지출 경비_Air-Tel_항목별_문화, 오락 관련 지출(원자료)',\n",
              " 'A_Q14_2_8': '문14-1. 여행형태별 1인 평균 지출 경비_Air-Tel_항목별_데이터 통신비(원자료)',\n",
              " 'A_Q14_2_9': '문14-1. 여행형태별 1인 평균 지출 경비_Air-Tel_항목별_치료비(원자료)',\n",
              " 'CITY': '거주도시',\n",
              " 'CQ10_6A1': '문10-6. 총 숙박기간(카테고리)',\n",
              " 'CQ10_6A2': '문10-6. 총 체재기간(카테고리)',\n",
              " 'CQ14_1A': '문14-1. 1인 평균 지출 경비_전체_결제방법_신용카드, 체크카드(카테고리)',\n",
              " 'CQ14_1B': '문14-1. 1인 평균 지출 경비_전체_결제방법_현금, 수표(카테고리)',\n",
              " 'CQ14_1C': '문14-1. 1인 평균 지출 경비_전체_결제방법_스마트폰(카테고리)',\n",
              " 'CQ14_1T': '문14-1. 1인 평균 지출 경비_전체_총액(카테고리)',\n",
              " 'CQ14_2_1': '문14-1. 1인 평균 지출 경비_전체_항목별_숙박비(카테고리)',\n",
              " 'CQ14_2_10': '문14-1. 1인 평균 지출 경비_전체_항목별_기타(카테고리)',\n",
              " 'CQ14_2_2': '문14-1. 1인 평균 지출 경비_전체_항목별_본인 거주국 지불경비(카테고리)',\n",
              " 'CQ14_2_3': '문14-1. 1인 평균 지출 경비_전체_항목별_쇼핑비(카테고리)',\n",
              " 'CQ14_2_4': '문14-1. 1인 평균 지출 경비_전체_항목별_식음료비(카테고리)',\n",
              " 'CQ14_2_5': '문14-1. 1인 평균 지출 경비_전체_항목별_현지 교통비(카테고리)',\n",
              " 'CQ14_2_6': '문14-1. 1인 평균 지출 경비_전체_항목별_한국 여행사 지불비(카테고리)',\n",
              " 'CQ14_2_7': '문14-1. 1인 평균 지출 경비_전체_항목별_문화, 오락 관련 지출(카테고리)',\n",
              " 'CQ14_2_8': '문14-1. 1인 평균 지출 경비_전체_항목별_데이터 통신비(카테고리)',\n",
              " 'CQ14_2_9': '문14-1. 1인 평균 지출 경비_전체_항목별_치료비(카테고리)',\n",
              " 'DAY_A_CQ14_1T': '문14-1. 여행형태별 1일 평균 지출 경비_단체여행_총액(61일 이상 & 최대금액 초과 제외_카테고리)',\n",
              " 'DAY_A_MQ14_1T': '문14-1. 여행형태별 1일 평균 지출 경비_단체여행_총액(61일 이상 & 최대금액 초과 제외)',\n",
              " 'DAY_CQ14_1T': '문14-1. 1일 평균 지출 경비_전체_총액(61일 이상 & 최대금액 초과 제외_카테고리)',\n",
              " 'DAY_GA_CQ14_1T': '문14-1. 여행형태별 1일 평균 지출 경비_Air-Tel_총액(61일 이상 & 최대금액 초과 제외_카테고리)',\n",
              " 'DAY_GA_MQ14_1T': '문14-1. 여행형태별 1일 평균 지출 경비_Air-Tel_총액(61일 이상 & 최대금액 초과 제외)',\n",
              " 'DAY_I_CQ14_1T': '문14-1. 여행형태별 1일 평균 지출 경비_개별여행_총액(61일 이상 & 최대금액 초과 제외_카테고리)',\n",
              " 'DAY_I_MQ14_1T': '문14-1. 여행형태별 1일 평균 지출 경비_개별여행_총액(61일 이상 & 최대금액 초과 제외)',\n",
              " 'DAY_MQ14_1T': '문14-1. 1일 평균 지출 경비_전체_총액(61일 이상 & 최대금액 초과 제외)',\n",
              " 'D_AGE': '연령별',\n",
              " 'D_COU1': '국가별',\n",
              " 'D_COU2': '국가별(중동3개 권역)',\n",
              " 'D_GEN': '성별',\n",
              " 'D_MON': '월별',\n",
              " 'D_Q1': '방한횟수별',\n",
              " 'D_Q12': '여행형태별',\n",
              " 'D_Q1A': '재방문여부별',\n",
              " 'D_Q5_1': '방한목적별',\n",
              " 'D_QUA': '분기별',\n",
              " 'GA_CQ14_1T': '문14-1. 여행형태별 1인 평균 지출 경비_단체+Air-tel_총액(카테고리)',\n",
              " 'GA_CQ14_2_10': '문14-1. 여행형태별 1인 평균 지출 경비_단체+Air-tel_항목별_기타(카테고리)',\n",
              " 'GA_CQ14_2_2': '문14-1. 여행형태별 1인 평균 지출 경비_단체+Air-tel_항목별_본인 거주국 지불경비(카테고리)',\n",
              " 'GA_CQ14_2_3': '문14-1. 여행형태별 1인 평균 지출 경비_단체+Air-tel_항목별_쇼핑비(카테고리)',\n",
              " 'GA_CQ14_2_4': '문14-1. 여행형태별 1인 평균 지출 경비_단체+Air-tel_항목별_식음료비(카테고리)',\n",
              " 'GA_CQ14_2_5': '문14-1. 여행형태별 1인 평균 지출 경비_단체+Air-tel_항목별_현지 교통비(카테고리)',\n",
              " 'GA_CQ14_2_6': '문14-1. 여행형태별 1인 평균 지출 경비_단체+Air-tel_항목별_한국 여행사 지불비(카테고리)',\n",
              " 'GA_CQ14_2_7': '문14-1. 여행형태별 1인 평균 지출 경비_단체+Air-tel_항목별_문화, 오락 관련 지출(카테고리)',\n",
              " 'GA_CQ14_2_8': '문14-1. 여행형태별 1인 평균 지출 경비_단체+Air-tel_항목별_데이터 통신비(카테고리)',\n",
              " 'GA_CQ14_2_9': '문14-1. 여행형태별 1인 평균 지출 경비_단체+Air-tel_항목별_치료비(카테고리)',\n",
              " 'GA_MQ14_1T': '문14-1. 여행형태별 1인 평균 지출 경비_단체+Air-tel_총액(최대금액 결측)',\n",
              " 'GA_MQ14_2_10': '문14-1. 여행형태별 1인 평균 지출 경비_단체+Air-tel_항목별_기타(최대금액 결측)',\n",
              " 'GA_MQ14_2_2': '문14-1. 여행형태별 1인 평균 지출 경비_단체+Air-tel_항목별_본인 거주국 지불경비(최대금액 결측)',\n",
              " 'GA_MQ14_2_3': '문14-1. 여행형태별 1인 평균 지출 경비_단체+Air-tel_항목별_쇼핑비(최대금액 결측)',\n",
              " 'GA_MQ14_2_4': '문14-1. 여행형태별 1인 평균 지출 경비_단체+Air-tel_항목별_식음료비(최대금액 결측)',\n",
              " 'GA_MQ14_2_5': '문14-1. 여행형태별 1인 평균 지출 경비_단체+Air-tel_항목별_현지 교통비(최대금액 결측)',\n",
              " 'GA_MQ14_2_6': '문14-1. 여행형태별 1인 평균 지출 경비_단체+Air-tel_항목별_한국 여행사 지불비(최대금액 결측)',\n",
              " 'GA_MQ14_2_7': '문14-1. 여행형태별 1인 평균 지출 경비_단체+Air-tel_항목별_문화, 오락 관련 지출(최대금액 결측)',\n",
              " 'GA_MQ14_2_8': '문14-1. 여행형태별 1인 평균 지출 경비_단체+Air-tel_항목별_데이터 통신비(최대금액 결측)',\n",
              " 'GA_MQ14_2_9': '문14-1. 여행형태별 1인 평균 지출 경비_단체+Air-tel_항목별_치료비(최대금액 결측)',\n",
              " 'GA_Q14_2_10': '문14-1. 여행형태별 1인 평균 지출 경비_단체+Air-tel_항목별_기타(원자료)',\n",
              " 'GA_Q14_2_1T': '문14-1. 여행형태별 1인 평균 지출 경비_단체+Air-Tel_총액(원자료)',\n",
              " 'GA_Q14_2_2': '문14-1. 여행형태별 1인 평균 지출 경비_단체+Air-tel_항목별_본인 거주국 지불경비(원자료)',\n",
              " 'GA_Q14_2_3': '문14-1. 여행형태별 1인 평균 지출 경비_단체+Air-tel_항목별_쇼핑비(원자료)',\n",
              " 'GA_Q14_2_4': '문14-1. 여행형태별 1인 평균 지출 경비_단체+Air-tel_항목별_식음료비(원자료)',\n",
              " 'GA_Q14_2_5': '문14-1. 여행형태별 1인 평균 지출 경비_단체+Air-tel_항목별_현지 교통비(원자료)',\n",
              " 'GA_Q14_2_6': '문14-1. 여행형태별 1인 평균 지출 경비_단체+Air-tel_항목별_한국 여행사 지불비(원자료)',\n",
              " 'GA_Q14_2_7': '문14-1. 여행형태별 1인 평균 지출 경비_단체+Air-tel_항목별_문화, 오락 관련 지출(원자료)',\n",
              " 'GA_Q14_2_8': '문14-1. 여행형태별 1인 평균 지출 경비_단체+Air-tel_항목별_데이터 통신비(원자료)',\n",
              " 'GA_Q14_2_9': '문14-1. 여행형태별 1인 평균 지출 경비_단체+Air-tel_항목별_치료비(원자료)',\n",
              " 'G_CQ14_1T': '문14-1. 여행형태별 1인 평균 지출 경비_단체여행_총액(카테고리)',\n",
              " 'G_CQ14_2_10': '문14-1. 여행형태별 1인 평균 지출 경비_단체여행_항목별_기타(카테고리)',\n",
              " 'G_CQ14_2_2': '문14-1. 여행형태별 1인 평균 지출 경비_단체여행_항목별_본인 거주국 지불경비(카테고리)',\n",
              " 'G_CQ14_2_3': '문14-1. 여행형태별 1인 평균 지출 경비_단체여행_항목별_쇼핑비(카테고리)',\n",
              " 'G_CQ14_2_4': '문14-1. 여행형태별 1인 평균 지출 경비_단체여행_항목별_식음료비(카테고리)',\n",
              " 'G_CQ14_2_5': '문14-1. 여행형태별 1인 평균 지출 경비_단체여행_항목별_현지 교통비(카테고리)',\n",
              " 'G_CQ14_2_6': '문14-1. 여행형태별 1인 평균 지출 경비_단체여행_항목별_한국 여행사 지불비(카테고리)',\n",
              " 'G_CQ14_2_7': '문14-1. 여행형태별 1인 평균 지출 경비_단체여행_항목별_문화, 오락 관련 지출(카테고리)',\n",
              " 'G_CQ14_2_8': '문14-1. 여행형태별 1인 평균 지출 경비_단체여행_항목별_데이터 통신비(카테고리)',\n",
              " 'G_CQ14_2_9': '문14-1. 여행형태별 1인 평균 지출 경비_단체여행_항목별_치료비(카테고리)',\n",
              " 'G_MQ14_1T': '문14-1. 여행형태별 1인 평균 지출 경비_단체여행_총액(최대금액 결측)',\n",
              " 'G_MQ14_2_10': '문14-1. 여행형태별 1인 평균 지출 경비_단체여행_항목별_기타(최대금액 결측)',\n",
              " 'G_MQ14_2_2': '문14-1. 여행형태별 1인 평균 지출 경비_단체여행_항목별_본인 거주국 지불경비(최대금액 결측)',\n",
              " 'G_MQ14_2_3': '문14-1. 여행형태별 1인 평균 지출 경비_단체여행_항목별_쇼핑비(최대금액 결측)',\n",
              " 'G_MQ14_2_4': '문14-1. 여행형태별 1인 평균 지출 경비_단체여행_항목별_식음료비(최대금액 결측)',\n",
              " 'G_MQ14_2_5': '문14-1. 여행형태별 1인 평균 지출 경비_단체여행_항목별_현지 교통비(최대금액 결측)',\n",
              " 'G_MQ14_2_6': '문14-1. 여행형태별 1인 평균 지출 경비_단체여행_항목별_한국 여행사 지불비(최대금액 결측)',\n",
              " 'G_MQ14_2_7': '문14-1. 여행형태별 1인 평균 지출 경비_단체여행_항목별_문화, 오락 관련 지출(최대금액 결측)',\n",
              " 'G_MQ14_2_8': '문14-1. 여행형태별 1인 평균 지출 경비_단체여행_항목별_데이터 통신비(최대금액 결측)',\n",
              " 'G_MQ14_2_9': '문14-1. 여행형태별 1인 평균 지출 경비_단체여행_항목별_치료비(최대금액 결측)',\n",
              " 'G_Q14_1T': '문14-1. 여행형태별 1인 평균 지출 경비_단체여행_총액(원자료)',\n",
              " 'G_Q14_2_10': '문14-1. 여행형태별 1인 평균 지출 경비_단체여행_항목별_기타(원자료)',\n",
              " 'G_Q14_2_2': '문14-1. 여행형태별 1인 평균 지출 경비_단체여행_항목별_본인 거주국 지불경비(원자료)',\n",
              " 'G_Q14_2_3': '문14-1. 여행형태별 1인 평균 지출 경비_단체여행_항목별_쇼핑비(원자료)',\n",
              " 'G_Q14_2_4': '문14-1. 여행형태별 1인 평균 지출 경비_단체여행_항목별_식음료비(원자료)',\n",
              " 'G_Q14_2_5': '문14-1. 여행형태별 1인 평균 지출 경비_단체여행_항목별_현지 교통비(원자료)',\n",
              " 'G_Q14_2_6': '문14-1. 여행형태별 1인 평균 지출 경비_단체여행_항목별_한국 여행사 지불비(원자료)',\n",
              " 'G_Q14_2_7': '문14-1. 여행형태별 1인 평균 지출 경비_단체여행_항목별_문화, 오락 관련 지출(원자료)',\n",
              " 'G_Q14_2_8': '문14-1. 여행형태별 1인 평균 지출 경비_단체여행_항목별_데이터 통신비(원자료)',\n",
              " 'G_Q14_2_9': '문14-1. 여행형태별 1인 평균 지출 경비_단체여행_항목별_치료비(원자료)',\n",
              " 'ID': '일련번호',\n",
              " 'I_CQ14_1T': '문14-1. 여행형태별 1인 평균 지출 경비_개별여행_총액(카테고리)',\n",
              " 'I_CQ14_2_1': '문14-1. 여행형태별 1인 평균 지출 경비_개별여행_항목별_숙박비(카테고리)',\n",
              " 'I_CQ14_2_10': '문14-1. 여행형태별 1인 평균 지출 경비_개별여행_항목별_기타(카테고리)',\n",
              " 'I_CQ14_2_3': '문14-1. 여행형태별 1인 평균 지출 경비_개별여행_항목별_쇼핑비(카테고리)',\n",
              " 'I_CQ14_2_4': '문14-1. 여행형태별 1인 평균 지출 경비_개별여행_항목별_식음료비(카테고리)',\n",
              " 'I_CQ14_2_5': '문14-1. 여행형태별 1인 평균 지출 경비_개별여행_항목별_현지 교통비(카테고리)',\n",
              " 'I_CQ14_2_6': '문14-1. 여행형태별 1인 평균 지출 경비_개별여행_항목별_한국 여행사 지불비(카테고리)',\n",
              " 'I_CQ14_2_7': '문14-1. 여행형태별 1인 평균 지출 경비_개별여행_항목별_문화, 오락 관련 지출(카테고리)',\n",
              " 'I_CQ14_2_8': '문14-1. 여행형태별 1인 평균 지출 경비_개별여행_항목별_데이터 통신비(카테고리)',\n",
              " 'I_CQ14_2_9': '문14-1. 여행형태별 1인 평균 지출 경비_개별여행_항목별_치료비(카테고리)',\n",
              " 'I_MQ14_1T': '문14-1. 여행형태별 1인 평균 지출 경비_개별여행_총액(최대금액 결측)',\n",
              " 'I_MQ14_2_1': '문14-1. 여행형태별 1인 평균 지출 경비_개별여행_항목별_숙박비(최대금액 결측)',\n",
              " 'I_MQ14_2_10': '문14-1. 여행형태별 1인 평균 지출 경비_개별여행_항목별_기타(최대금액 결측)',\n",
              " 'I_MQ14_2_3': '문14-1. 여행형태별 1인 평균 지출 경비_개별여행_항목별_쇼핑비(최대금액 결측)',\n",
              " 'I_MQ14_2_4': '문14-1. 여행형태별 1인 평균 지출 경비_개별여행_항목별_식음료비(최대금액 결측)',\n",
              " 'I_MQ14_2_5': '문14-1. 여행형태별 1인 평균 지출 경비_개별여행_항목별_현지 교통비(최대금액 결측)',\n",
              " 'I_MQ14_2_6': '문14-1. 여행형태별 1인 평균 지출 경비_개별여행_항목별_한국 여행사 지불비(최대금액 결측)',\n",
              " 'I_MQ14_2_7': '문14-1. 여행형태별 1인 평균 지출 경비_개별여행_항목별_문화, 오락 관련 지출(최대금액 결측)',\n",
              " 'I_MQ14_2_8': '문14-1. 여행형태별 1인 평균 지출 경비_개별여행_항목별_데이터 통신비(최대금액 결측)',\n",
              " 'I_MQ14_2_9': '문14-1. 여행형태별 1인 평균 지출 경비_개별여행_항목별_치료비(최대금액 결측)',\n",
              " 'I_Q14_1T': '문14-1. 여행형태별 1인 평균 지출 경비_개별여행_총액(원자료)',\n",
              " 'I_Q14_2_1': '문14-1. 여행형태별 1인 평균 지출 경비_개별여행_항목별_숙박비(원자료)',\n",
              " 'I_Q14_2_10': '문14-1. 여행형태별 1인 평균 지출 경비_개별여행_항목별_기타(원자료)',\n",
              " 'I_Q14_2_3': '문14-1. 여행형태별 1인 평균 지출 경비_개별여행_항목별_쇼핑비(원자료)',\n",
              " 'I_Q14_2_4': '문14-1. 여행형태별 1인 평균 지출 경비_개별여행_항목별_식음료비(원자료)',\n",
              " 'I_Q14_2_5': '문14-1. 여행형태별 1인 평균 지출 경비_개별여행_항목별_현지 교통비(원자료)',\n",
              " 'I_Q14_2_6': '문14-1. 여행형태별 1인 평균 지출 경비_개별여행_항목별_한국 여행사 지불비(원자료)',\n",
              " 'I_Q14_2_7': '문14-1. 여행형태별 1인 평균 지출 경비_개별여행_항목별_문화, 오락 관련 지출(원자료)',\n",
              " 'I_Q14_2_8': '문14-1. 여행형태별 1인 평균 지출 경비_개별여행_항목별_데이터 통신비(원자료)',\n",
              " 'I_Q14_2_9': '문14-1. 여행형태별 1인 평균 지출 경비_개별여행_항목별_치료비(원자료)',\n",
              " 'MQ10_4_10A1': '문10-4. 시도별 숙박기간(총 숙박기간 60박 이상 결측) - 10 경남',\n",
              " 'MQ10_4_10A2': '문10-4. 시도별 체재기간(총 체재기간 61일 이상 결측) - 10 경남',\n",
              " 'MQ10_4_11A1': '문10-4. 시도별 숙박기간(총 숙박기간 60박 이상 결측) - 11 대구',\n",
              " 'MQ10_4_11A2': '문10-4. 시도별 체재기간(총 체재기간 61일 이상 결측) - 11 대구',\n",
              " 'MQ10_4_12A1': '문10-4. 시도별 숙박기간(총 숙박기간 60박 이상 결측) - 12 울산',\n",
              " 'MQ10_4_12A2': '문10-4. 시도별 체재기간(총 체재기간 61일 이상 결측) - 12 울산',\n",
              " 'MQ10_4_13A1': '문10-4. 시도별 숙박기간(총 숙박기간 60박 이상 결측) - 13 부산',\n",
              " 'MQ10_4_13A2': '문10-4. 시도별 체재기간(총 체재기간 61일 이상 결측) - 13 부산',\n",
              " 'MQ10_4_14A1': '문10-4. 시도별 숙박기간(총 숙박기간 60박 이상 결측) - 14 광주',\n",
              " 'MQ10_4_14A2': '문10-4. 시도별 체재기간(총 체재기간 61일 이상 결측) - 14 광주',\n",
              " 'MQ10_4_15A1': '문10-4. 시도별 숙박기간(총 숙박기간 60박 이상 결측) - 15 전북',\n",
              " 'MQ10_4_15A2': '문10-4. 시도별 체재기간(총 체재기간 61일 이상 결측) - 15 전북',\n",
              " 'MQ10_4_16A1': '문10-4. 시도별 숙박기간(총 숙박기간 60박 이상 결측) - 16 전남',\n",
              " 'MQ10_4_16A2': '문10-4. 시도별 체재기간(총 체재기간 61일 이상 결측) - 16 전남',\n",
              " 'MQ10_4_17A1': '문10-4. 시도별 숙박기간(총 숙박기간 60박 이상 결측) - 17 제주',\n",
              " 'MQ10_4_17A2': '문10-4. 시도별 체재기간(총 체재기간 61일 이상 결측) - 17 제주',\n",
              " 'MQ10_4_1A1': '문10-4. 시도별 숙박기간(총 숙박기간 60박 이상 결측) - 1 서울',\n",
              " 'MQ10_4_1A2': '문10-4. 시도별 체재기간(총 체재기간 61일 이상 결측) - 1 서울',\n",
              " 'MQ10_4_2A1': '문10-4. 시도별 숙박기간(총 숙박기간 60박 이상 결측) - 2 경기',\n",
              " 'MQ10_4_2A2': '문10-4. 시도별 체재기간(총 체재기간 61일 이상 결측) - 2 경기',\n",
              " 'MQ10_4_3A1': '문10-4. 시도별 숙박기간(총 숙박기간 60박 이상 결측) - 3 인천',\n",
              " 'MQ10_4_3A2': '문10-4. 시도별 체재기간(총 체재기간 61일 이상 결측) - 3 인천',\n",
              " 'MQ10_4_4A1': '문10-4. 시도별 숙박기간(총 숙박기간 60박 이상 결측) - 4 강원',\n",
              " 'MQ10_4_4A2': '문10-4. 시도별 체재기간(총 체재기간 61일 이상 결측) - 4 강원',\n",
              " 'MQ10_4_5A1': '문10-4. 시도별 숙박기간(총 숙박기간 60박 이상 결측) - 5 대전',\n",
              " 'MQ10_4_5A2': '문10-4. 시도별 체재기간(총 체재기간 61일 이상 결측) - 5 대전',\n",
              " 'MQ10_4_6A1': '문10-4. 시도별 숙박기간(총 숙박기간 60박 이상 결측) - 6 충북',\n",
              " 'MQ10_4_6A2': '문10-4. 시도별 체재기간(총 체재기간 61일 이상 결측) - 6 충북',\n",
              " 'MQ10_4_7A1': '문10-4. 시도별 숙박기간(총 숙박기간 60박 이상 결측) - 7 충남',\n",
              " 'MQ10_4_7A2': '문10-4. 시도별 체재기간(총 체재기간 61일 이상 결측) - 7 충남',\n",
              " 'MQ10_4_8A1': '문10-4. 시도별 숙박기간(총 숙박기간 60박 이상 결측) - 8 세종',\n",
              " 'MQ10_4_8A2': '문10-4. 시도별 체재기간(총 체재기간 61일 이상 결측) - 8 세종',\n",
              " 'MQ10_4_9A1': '문10-4. 시도별 숙박기간(총 숙박기간 60박 이상 결측) - 9 경북',\n",
              " 'MQ10_4_9A2': '문10-4. 시도별 체재기간(총 체재기간 61일 이상 결측) - 9 경북',\n",
              " 'MQ10_6A1': '문10-6. 총 숙박기간(총 숙박기간 60박 이상 결측)',\n",
              " 'MQ10_6A2': '문10-6. 총 체재기간(총 체재기간 61일 이상 결측)',\n",
              " 'MQ14_1A': '문14-1. 1인 평균 지출 경비_전체_결제방법_신용카드, 체크카드(최대금액 초과 결측)',\n",
              " 'MQ14_1B': '문14-1. 1인 평균 지출 경비_전체_결제방법_현금, 수표(최대금액 초과 결측)',\n",
              " 'MQ14_1C': '문14-1. 1인 평균 지출 경비_전체_결제방법_스마트폰(최대금액 초과 결측)',\n",
              " 'MQ14_1T': '문14-1. 1인 평균 지출 경비_전체_총액(최대금액 초과 결측)',\n",
              " 'MQ14_2_1': '문14-1. 1인 평균 지출 경비_전체_항목별_숙박비(최대금액 초과 결측)',\n",
              " 'MQ14_2_10': '문14-1. 1인 평균 지출 경비_전체_항목별_기타(최대금액 초과 결측)',\n",
              " 'MQ14_2_2': '문14-1. 1인 평균 지출 경비_전체_항목별_본인 거주국 지불경비(최대금액 초과 결측)',\n",
              " 'MQ14_2_3': '문14-1. 1인 평균 지출 경비_전체_항목별_쇼핑비(최대금액 초과 결측)',\n",
              " 'MQ14_2_4': '문14-1. 1인 평균 지출 경비_전체_항목별_식음료비(최대금액 초과 결측)',\n",
              " 'MQ14_2_5': '문14-1. 1인 평균 지출 경비_전체_항목별_현지 교통비(최대금액 초과 결측)',\n",
              " 'MQ14_2_6': '문14-1. 1인 평균 지출 경비_전체_항목별_한국 여행사 지불비(최대금액 초과 결측)',\n",
              " 'MQ14_2_7': '문14-1. 1인 평균 지출 경비_전체_항목별_문화, 오락 관련 지출(최대금액 초과 결측)',\n",
              " 'MQ14_2_8': '문14-1. 1인 평균 지출 경비_전체_항목별_데이터 통신비(최대금액 초과 결측)',\n",
              " 'MQ14_2_9': '문14-1. 1인 평균 지출 경비_전체_항목별_치료비(최대금액 초과 결측)',\n",
              " 'Q1': '문1. 방한 횟수',\n",
              " 'Q10_1A1': '문10-1. 한국 여행 중 방문지1',\n",
              " 'Q10_1A10': '문10-1. 한국 여행 중 방문지10',\n",
              " 'Q10_1A11': '문10-1. 한국 여행 중 방문지11',\n",
              " 'Q10_1A12': '문10-1. 한국 여행 중 방문지12',\n",
              " 'Q10_1A13': '문10-1. 한국 여행 중 방문지13',\n",
              " 'Q10_1A14': '문10-1. 한국 여행 중 방문지14',\n",
              " 'Q10_1A15': '문10-1. 한국 여행 중 방문지15',\n",
              " 'Q10_1A16': '문10-1. 한국 여행 중 방문지16',\n",
              " 'Q10_1A17': '문10-1. 한국 여행 중 방문지17',\n",
              " 'Q10_1A18': '문10-1. 한국 여행 중 방문지18',\n",
              " 'Q10_1A19': '문10-1. 한국 여행 중 방문지19',\n",
              " 'Q10_1A2': '문10-1. 한국 여행 중 방문지2',\n",
              " 'Q10_1A20': '문10-1. 한국 여행 중 방문지20',\n",
              " 'Q10_1A21': '문10-1. 한국 여행 중 방문지21',\n",
              " 'Q10_1A22': '문10-1. 한국 여행 중 방문지22',\n",
              " 'Q10_1A23': '문10-1. 한국 여행 중 방문지23',\n",
              " 'Q10_1A24': '문10-1. 한국 여행 중 방문지24',\n",
              " 'Q10_1A25': '문10-1. 한국 여행 중 방문지25',\n",
              " 'Q10_1A26': '문10-1. 한국 여행 중 방문지26',\n",
              " 'Q10_1A27': '문10-1. 한국 여행 중 방문지27',\n",
              " 'Q10_1A28': '문10-1. 한국 여행 중 방문지28',\n",
              " 'Q10_1A29': '문10-1. 한국 여행 중 방문지29',\n",
              " 'Q10_1A3': '문10-1. 한국 여행 중 방문지3',\n",
              " 'Q10_1A30': '문10-1. 한국 여행 중 방문지30',\n",
              " 'Q10_1A4': '문10-1. 한국 여행 중 방문지4',\n",
              " 'Q10_1A5': '문10-1. 한국 여행 중 방문지5',\n",
              " 'Q10_1A6': '문10-1. 한국 여행 중 방문지6',\n",
              " 'Q10_1A7': '문10-1. 한국 여행 중 방문지7',\n",
              " 'Q10_1A8': '문10-1. 한국 여행 중 방문지8',\n",
              " 'Q10_1A9': '문10-1. 한국 여행 중 방문지9',\n",
              " 'Q10_1B1': '문10-1. 한국 여행 중 방문 지역(17개 시도) - 1 서울',\n",
              " 'Q10_1B10': '문10-1. 한국 여행 중 방문 지역(17개 시도) - 10 충북',\n",
              " 'Q10_1B11': '문10-1. 한국 여행 중 방문 지역(17개 시도) - 11 충남',\n",
              " 'Q10_1B12': '문10-1. 한국 여행 중 방문 지역(17개 시도) - 12 전북',\n",
              " 'Q10_1B13': '문10-1. 한국 여행 중 방문 지역(17개 시도) - 13 전남',\n",
              " 'Q10_1B14': '문10-1. 한국 여행 중 방문 지역(17개 시도) - 14 경북',\n",
              " 'Q10_1B15': '문10-1. 한국 여행 중 방문 지역(17개 시도) - 15 경남',\n",
              " 'Q10_1B16': '문10-1. 한국 여행 중 방문 지역(17개 시도) - 16 제주',\n",
              " 'Q10_1B17': '문10-1. 한국 여행 중 방문 지역(17개 시도) - 17 세종',\n",
              " 'Q10_1B2': '문10-1. 한국 여행 중 방문 지역(17개 시도) - 2 부산',\n",
              " 'Q10_1B3': '문10-1. 한국 여행 중 방문 지역(17개 시도) - 3 대구',\n",
              " 'Q10_1B4': '문10-1. 한국 여행 중 방문 지역(17개 시도) - 4 인천',\n",
              " 'Q10_1B5': '문10-1. 한국 여행 중 방문 지역(17개 시도) - 5 광주',\n",
              " 'Q10_1B6': '문10-1. 한국 여행 중 방문 지역(17개 시도) - 6 대전',\n",
              " 'Q10_1B7': '문10-1. 한국 여행 중 방문 지역(17개 시도) - 7 울산',\n",
              " 'Q10_1B8': '문10-1. 한국 여행 중 방문 지역(17개 시도) - 8 경기',\n",
              " 'Q10_1B9': '문10-1. 한국 여행 중 방문 지역(17개 시도) - 9 강원',\n",
              " 'Q10_1C1': '문10-1. 한국 여행 중 방문 권역 - 1 서울',\n",
              " 'Q10_1C2': '문10-1. 한국 여행 중 방문 권역 - 2 경기도',\n",
              " 'Q10_1C3': '문10-1. 한국 여행 중 방문 권역 - 3 인천',\n",
              " 'Q10_1C4': '문10-1. 한국 여행 중 방문 권역 - 4 강원도',\n",
              " 'Q10_1C5': '문10-1. 한국 여행 중 방문 권역 - 5 충청도',\n",
              " 'Q10_1C6': '문10-1. 한국 여행 중 방문 권역 - 6 경상도',\n",
              " 'Q10_1C7': '문10-1. 한국 여행 중 방문 권역 - 7 전라도',\n",
              " 'Q10_1C8': '문10-1. 한국 여행 중 방문 권역 - 8 제주',\n",
              " 'Q10_2A1': '문10-2. 가장 인상 깊었던 방문지1',\n",
              " 'Q10_2A2': '문10-2. 가장 인상 깊었던 방문지2',\n",
              " 'Q10_2A3': '문10-2. 가장 인상 깊었던 방문지3',\n",
              " 'Q10_4_10A1': '문10-4. 시도별 숙박기간(원자료) - 10 경남',\n",
              " 'Q10_4_10A2': '문10-4. 시도별 체재기간(원자료) - 10 경남',\n",
              " 'Q10_4_11A1': '문10-4. 시도별 숙박기간(원자료) - 11 대구',\n",
              " 'Q10_4_11A2': '문10-4. 시도별 체재기간(원자료) - 11 대구',\n",
              " 'Q10_4_12A1': '문10-4. 시도별 숙박기간(원자료) - 12 울산',\n",
              " 'Q10_4_12A2': '문10-4. 시도별 체재기간(원자료) - 12 울산',\n",
              " 'Q10_4_13A1': '문10-4. 시도별 숙박기간(원자료) - 13 부산',\n",
              " 'Q10_4_13A2': '문10-4. 시도별 체재기간(원자료) - 13 부산',\n",
              " 'Q10_4_14A1': '문10-4. 시도별 숙박기간(원자료) - 14 광주',\n",
              " 'Q10_4_14A2': '문10-4. 시도별 체재기간(원자료) - 14 광주',\n",
              " 'Q10_4_15A1': '문10-4. 시도별 숙박기간(원자료) - 15 전북',\n",
              " 'Q10_4_15A2': '문10-4. 시도별 체재기간(원자료) - 15 전북',\n",
              " 'Q10_4_16A1': '문10-4. 시도별 숙박기간(원자료) - 16 전남',\n",
              " 'Q10_4_16A2': '문10-4. 시도별 체재기간(원자료) - 16 전남',\n",
              " 'Q10_4_17A1': '문10-4. 시도별 숙박기간(원자료) - 17 제주',\n",
              " 'Q10_4_17A2': '문10-4. 시도별 체재기간(원자료) - 17 제주',\n",
              " 'Q10_4_1A1': '문10-4. 시도별 숙박기간(원자료) - 1 서울',\n",
              " 'Q10_4_1A2': '문10-4. 시도별 체재기간(원자료) - 1 서울',\n",
              " 'Q10_4_2A1': '문10-4. 시도별 숙박기간(원자료) - 2 경기',\n",
              " 'Q10_4_2A2': '문10-4. 시도별 체재기간(원자료) - 2 경기',\n",
              " 'Q10_4_3A1': '문10-4. 시도별 숙박기간(원자료) - 3 인천',\n",
              " 'Q10_4_3A2': '문10-4. 시도별 체재기간(원자료) - 3 인천',\n",
              " 'Q10_4_4A1': '문10-4. 시도별 숙박기간(원자료) - 4 강원',\n",
              " 'Q10_4_4A2': '문10-4. 시도별 체재기간(원자료) - 4 강원',\n",
              " 'Q10_4_5A1': '문10-4. 시도별 숙박기간(원자료) - 5 대전',\n",
              " 'Q10_4_5A2': '문10-4. 시도별 체재기간(원자료) - 5 대전',\n",
              " 'Q10_4_6A1': '문10-4. 시도별 숙박기간(원자료) - 6 충북',\n",
              " 'Q10_4_6A2': '문10-4. 시도별 체재기간(원자료) - 6 충북',\n",
              " 'Q10_4_7A1': '문10-4. 시도별 숙박기간(원자료) - 7 충남',\n",
              " 'Q10_4_7A2': '문10-4. 시도별 체재기간(원자료) - 7 충남',\n",
              " 'Q10_4_8A1': '문10-4. 시도별 숙박기간(원자료) - 8 세종',\n",
              " 'Q10_4_8A2': '문10-4. 시도별 체재기간(원자료) - 8 세종',\n",
              " 'Q10_4_9A1': '문10-4. 시도별 숙박기간(원자료) - 9 경북',\n",
              " 'Q10_4_9A2': '문10-4. 시도별 체재기간(원자료) - 9 경북',\n",
              " 'Q10_5A1': '문10-5. 이용 숙박시설1',\n",
              " 'Q10_5A2': '문10-5. 이용 숙박시설2',\n",
              " 'Q10_5A3': '문10-5. 이용 숙박시설3',\n",
              " 'Q10_5A4': '문10-5. 이용 숙박시설4',\n",
              " 'Q10_5A5': '문10-5. 이용 숙박시설5',\n",
              " 'Q10_5A6': '문10-5. 이용 숙박시설6',\n",
              " 'Q10_5A7': '문10-5. 이용 숙박시설7',\n",
              " 'Q10_5A8': '문10-5. 이용 숙박시설8',\n",
              " 'Q10_5B1': '문10-5. 시도별 이용 주요 숙박시설 - 1 서울',\n",
              " 'Q10_5B10': '문10-5. 시도별 이용 주요 숙박시설 - 10 경남',\n",
              " 'Q10_5B11': '문10-5. 시도별 이용 주요 숙박시설 - 11 대구',\n",
              " 'Q10_5B12': '문10-5. 시도별 이용 주요 숙박시설 - 12 울산',\n",
              " 'Q10_5B13': '문10-5. 시도별 이용 주요 숙박시설 - 13 부산',\n",
              " 'Q10_5B14': '문10-5. 시도별 이용 주요 숙박시설 - 14 광주',\n",
              " 'Q10_5B15': '문10-5. 시도별 이용 주요 숙박시설 - 15 전북',\n",
              " 'Q10_5B16': '문10-5. 시도별 이용 주요 숙박시설 - 16 전남',\n",
              " 'Q10_5B17': '문10-5. 시도별 이용 주요 숙박시설 - 17 제주',\n",
              " 'Q10_5B2': '문10-5. 시도별 이용 주요 숙박시설 - 2 경기',\n",
              " 'Q10_5B3': '문10-5. 시도별 이용 주요 숙박시설 - 3 인천',\n",
              " 'Q10_5B4': '문10-5. 시도별 이용 주요 숙박시설 - 4 강원',\n",
              " 'Q10_5B5': '문10-5. 시도별 이용 주요 숙박시설 - 5 대전',\n",
              " 'Q10_5B6': '문10-5. 시도별 이용 주요 숙박시설 - 6 충북',\n",
              " 'Q10_5B7': '문10-5. 시도별 이용 주요 숙박시설 - 7 충남',\n",
              " 'Q10_5B8': '문10-5. 시도별 이용 주요 숙박시설 - 8 세종',\n",
              " 'Q10_5B9': '문10-5. 시도별 이용 주요 숙박시설 - 9 경북',\n",
              " 'Q10_5_1': '문10-5. 숙박시설별 숙박기간(원자료) - 1 호텔',\n",
              " 'Q10_5_2': '문10-5. 숙박시설별 숙박기간(원자료) - 2 모텔/여관',\n",
              " 'Q10_5_3': '문10-5. 숙박시설별 숙박기간(원자료) - 3 게스트하우스/호스텔',\n",
              " 'Q10_5_4': '문10-5. 숙박시설별 숙박기간(원자료) - 4 콘도, 리조트, 펜션',\n",
              " 'Q10_5_5': '문10-5. 숙박시설별 숙박기간(원자료) - 5 친척 또는 친구집',\n",
              " 'Q10_5_6': '문10-5. 숙박시설별 숙박기간(원자료) - 6 학교/회사 기숙사, 연수원',\n",
              " 'Q10_5_7': '문10-5. 숙박시설별 숙박기간(원자료) - 7 민박/공유숙박(에어비앤비 등.',\n",
              " 'Q10_5_8': '문10-5. 숙박시설별 숙박기간(원자료) - 8 기타',\n",
              " 'Q10_6A1': '문10-6. 총 숙박기간(원자료)',\n",
              " 'Q10_6A2': '문10-6. 총 체재기간(원자료)',\n",
              " 'Q11_1A1': '문11-1. 주요 쇼핑 품목1',\n",
              " 'Q11_1A2': '문11-1. 주요 쇼핑 품목2',\n",
              " 'Q11_1A3': '문11-1. 주요 쇼핑 품목3',\n",
              " 'Q11_2A1': '문11-2. 주요 쇼핑 장소1',\n",
              " 'Q11_2A2': '문11-2. 주요 쇼핑 장소2',\n",
              " 'Q11_2A3': '문11-2. 주요 쇼핑 장소3',\n",
              " 'Q12': '문12. 여행형태',\n",
              " 'Q13': '문13. 한국 여행 중 스마트폰 사용 여부',\n",
              " 'Q13_1': '문13-1. 스마트폰 사용 방식1',\n",
              " 'Q13_2': '문13-1. 스마트폰 사용 방식2',\n",
              " 'Q13_3': '문13-1. 스마트폰 사용 방식3',\n",
              " 'Q14_1A': '문14-1. 1인 평균 지출 경비_전체_결제방법_신용카드, 체크카드(원자료)',\n",
              " 'Q14_1B': '문14-1. 1인 평균 지출 경비_전체_결제방법_현금, 수표(원자료)',\n",
              " 'Q14_1C': '문14-1. 1인 평균 지출 경비_전체_결제방법_스마트폰(원자료)',\n",
              " 'Q14_1T': '문14-1. 1인 평균 지출 경비_전체_총액(원자료)',\n",
              " 'Q14_2_1': '문14-1. 1인 평균 지출 경비_전체_항목별_숙박비(원자료)',\n",
              " 'Q14_2_10': '문14-1. 1인 평균 지출 경비_전체_항목별_기타(원자료)',\n",
              " 'Q14_2_2': '문14-1. 1인 평균 지출 경비_전체_항목별_본인 거주국 지불경비(원자료)',\n",
              " 'Q14_2_3': '문14-1. 1인 평균 지출 경비_전체_항목별_쇼핑비(원자료)',\n",
              " 'Q14_2_4': '문14-1. 1인 평균 지출 경비_전체_항목별_식음료비(원자료)',\n",
              " 'Q14_2_5': '문14-1. 1인 평균 지출 경비_전체_항목별_현지 교통비(원자료)',\n",
              " 'Q14_2_6': '문14-1. 1인 평균 지출 경비_전체_항목별_한국 여행사 지불비(원자료)',\n",
              " 'Q14_2_7': '문14-1. 1인 평균 지출 경비_전체_항목별_문화, 오락 관련 지출(원자료)',\n",
              " 'Q14_2_8': '문14-1. 1인 평균 지출 경비_전체_항목별_데이터 통신비(원자료)',\n",
              " 'Q14_2_9': '문14-1. 1인 평균 지출 경비_전체_항목별_치료비(원자료)',\n",
              " 'Q15_1': '문15-1. 한국여행에 대한 전반적 만족도',\n",
              " 'Q15_2A1': '문15-2. 한국여행에 대한 항목별 만족도_출입국 절차',\n",
              " 'Q15_2A10': '문15-2. 한국여행에 대한 항목별 만족도_언어소통',\n",
              " 'Q15_2A11': '문15-2. 한국여행에 대한 항목별 만족도_길 찾기',\n",
              " 'Q15_2A12': '문15-2. 한국여행에 대한 항목별 만족도_관광안내서비스',\n",
              " 'Q15_2A2': '문15-2. 한국여행에 대한 항목별 만족도_대중교통',\n",
              " 'Q15_2A3': '문15-2. 한국여행에 대한 항목별 만족도_숙박',\n",
              " 'Q15_2A4': '문15-2. 한국여행에 대한 항목별 만족도_음식',\n",
              " 'Q15_2A5': '문15-2. 한국여행에 대한 항목별 만족도_쇼핑',\n",
              " 'Q15_2A6': '문15-2. 한국여행에 대한 항목별 만족도_관광지 매력도',\n",
              " 'Q15_2A7': '문15-2. 한국여행에 대한 항목별 만족도_여행경비',\n",
              " 'Q15_2A8': '문15-2. 한국여행에 대한 항목별 만족도_치안(안전성)',\n",
              " 'Q15_2A9': '문15-2. 한국여행에 대한 항목별 만족도_모바일/인터넷 이용 편의',\n",
              " 'Q16': '문16. 향후 3년 내 관광목적 재방문 의향',\n",
              " 'Q17': '문17. 타인 추천 의향',\n",
              " 'Q18': '문18. 연 가구 소득',\n",
              " 'Q2A1': '문2. 동반자 현황1',\n",
              " 'Q2A2': '문2. 동반자 현황2',\n",
              " 'Q2A3': '문2. 동반자 현황3',\n",
              " 'Q2A4': '문2. 동반자 현황4',\n",
              " 'Q2A5': '문2. 동반자 현황5',\n",
              " 'Q2_1': '문2. 동반자 수',\n",
              " 'Q3A1': '문3. 방한 전후 방문 국가 유무 - ① 한국만 방문',\n",
              " 'Q3A2': '문3. 방한 전후 방문 국가 유무 - ② 한국방문 직전',\n",
              " 'Q3A3': '문3. 방한 전후 방문 국가 유무 - ③ 한국방문 직후',\n",
              " 'Q3A4': '문3. 방한 전후 방문 국가 유무 - ②+③ 한국방문 전/후',\n",
              " 'Q3B1': '문3. 방한 전 방문 국가',\n",
              " 'Q3B2': '문3. 방한 후 방문 국가',\n",
              " 'Q4': '문4. 다른 국가와 방문 비교 여부',\n",
              " 'Q4_1A1': '문4. 방문 비교 국가1',\n",
              " 'Q4_1A10': '문4. 방문 비교 국가10',\n",
              " 'Q4_1A2': '문4. 방문 비교 국가2',\n",
              " 'Q4_1A3': '문4. 방문 비교 국가3',\n",
              " 'Q4_1A4': '문4. 방문 비교 국가4',\n",
              " 'Q4_1A5': '문4. 방문 비교 국가5',\n",
              " 'Q4_1A6': '문4. 방문 비교 국가6',\n",
              " 'Q4_1A7': '문4. 방문 비교 국가7',\n",
              " 'Q4_1A8': '문4. 방문 비교 국가8',\n",
              " 'Q4_1A9': '문4. 방문 비교 국가9',\n",
              " 'Q5_1': '문5-1. 주요 방한 목적',\n",
              " 'Q5_2A1': '문5-2. 한국 방문 선택 시 고려 요인1',\n",
              " 'Q5_2A2': '문5-2. 한국 방문 선택 시 고려 요인2',\n",
              " 'Q5_2A3': '문5-2. 한국 방문 선택 시 고려 요인3',\n",
              " 'Q6_1A1': '문6-1. 한국 여행 전 정보 입수 출처1',\n",
              " 'Q6_1A2': '문6-1. 한국 여행 전 정보 입수 출처2',\n",
              " 'Q6_1A3': '문6-1. 한국 여행 전 정보 입수 출처3',\n",
              " 'Q6_2A1': '문6-2. 한국 여행 전 정보 획득을 위한 이용 사이트1',\n",
              " 'Q6_2A2': '문6-2. 한국 여행 전 정보 획득을 위한 이용 사이트2',\n",
              " 'Q6_2A3': '문6-2. 한국 여행 전 정보 획득을 위한 이용 사이트3',\n",
              " 'Q6_3A1': '문6-3. 한국 여행 준비 중 가장 필요했던 정보1',\n",
              " 'Q6_3A2': '문6-3. 한국 여행 준비 중 가장 필요했던 정보2',\n",
              " 'Q6_3A3': '문6-3. 한국 여행 준비 중 가장 필요했던 정보3',\n",
              " 'Q7': '문7. 왕복 항공권 및 방한 여행 상품 예약 시점',\n",
              " 'Q8A1': '문8. 방한 중 한국 관련 정보 출처1',\n",
              " 'Q8A2': '문8. 방한 중 한국 관련 정보 출처2',\n",
              " 'Q8A3': '문8. 방한 중 한국 관련 정보 출처3',\n",
              " 'Q9_1A1': '문9-1. 주요 참여 활동1',\n",
              " 'Q9_1A10': '문9-1. 주요 참여 활동10',\n",
              " 'Q9_1A11': '문9-1. 주요 참여 활동11',\n",
              " 'Q9_1A12': '문9-1. 주요 참여 활동12',\n",
              " 'Q9_1A13': '문9-1. 주요 참여 활동13',\n",
              " 'Q9_1A14': '문9-1. 주요 참여 활동14',\n",
              " 'Q9_1A15': '문9-1. 주요 참여 활동15',\n",
              " 'Q9_1A16': '문9-1. 주요 참여 활동16',\n",
              " 'Q9_1A17': '문9-1. 주요 참여 활동17',\n",
              " 'Q9_1A18': '문9-1. 주요 참여 활동18',\n",
              " 'Q9_1A19': '문9-1. 주요 참여 활동19',\n",
              " 'Q9_1A2': '문9-1. 주요 참여 활동2',\n",
              " 'Q9_1A20': '문9-1. 주요 참여 활동20',\n",
              " 'Q9_1A3': '문9-1. 주요 참여 활동3',\n",
              " 'Q9_1A4': '문9-1. 주요 참여 활동4',\n",
              " 'Q9_1A5': '문9-1. 주요 참여 활동5',\n",
              " 'Q9_1A6': '문9-1. 주요 참여 활동6',\n",
              " 'Q9_1A7': '문9-1. 주요 참여 활동7',\n",
              " 'Q9_1A8': '문9-1. 주요 참여 활동8',\n",
              " 'Q9_1A9': '문9-1. 주요 참여 활동9',\n",
              " 'Q9_2A1': '문9-2. 가장 만족한 활동1',\n",
              " 'Q9_2A2': '문9-2. 가장 만족한 활동2',\n",
              " 'Q9_2A3': '문9-2. 가장 만족한 활동3',\n",
              " 'WT': '가중 변수'}"
            ]
          },
          "metadata": {
            "tags": []
          },
          "execution_count": 17
        }
      ]
    },
    {
      "cell_type": "code",
      "metadata": {
        "id": "pswac6747VSY",
        "colab_type": "code",
        "colab": {}
      },
      "source": [
        "# 중동3개국 : 596\n",
        "# 중동3개국+말레이지아+인도네시아 : 1812\n"
      ],
      "execution_count": null,
      "outputs": []
    },
    {
      "cell_type": "code",
      "metadata": {
        "id": "KADrdBc07w6X",
        "colab_type": "code",
        "colab": {}
      },
      "source": [
        "m1_df = df[(df['D_COU2']==15.1)|(df['D_COU2']==15.2)|(df['D_COU2']==15.3)]"
      ],
      "execution_count": null,
      "outputs": []
    },
    {
      "cell_type": "code",
      "metadata": {
        "id": "PPqyRyAhu--G",
        "colab_type": "code",
        "colab": {}
      },
      "source": [
        "mu_df = df[(df['D_COU2']==15.1)|(df['D_COU2']==15.2)|(df['D_COU2']==15.3)|(df['D_COU1']==18)|(df['D_COU1']==7)]"
      ],
      "execution_count": 206,
      "outputs": []
    },
    {
      "cell_type": "code",
      "metadata": {
        "id": "iRODVN5TvBMF",
        "colab_type": "code",
        "colab": {
          "base_uri": "https://localhost:8080/",
          "height": 241
        },
        "outputId": "d682bc65-e915-46c4-86d5-50ac7d51bad4"
      },
      "source": [
        "m_df['Q15_2A1']"
      ],
      "execution_count": null,
      "outputs": [
        {
          "output_type": "execute_result",
          "data": {
            "text/plain": [
              "11748    3.0\n",
              "11749    4.0\n",
              "11750    4.0\n",
              "11751    4.0\n",
              "11752    1.0\n",
              "        ... \n",
              "16003    3.0\n",
              "16004    5.0\n",
              "16005    5.0\n",
              "16023    5.0\n",
              "16024    5.0\n",
              "Name: Q15_2A1, Length: 1812, dtype: float64"
            ]
          },
          "metadata": {
            "tags": []
          },
          "execution_count": 117
        }
      ]
    },
    {
      "cell_type": "code",
      "metadata": {
        "id": "Zf9dlf2dX3x5",
        "colab_type": "code",
        "colab": {}
      },
      "source": [
        ""
      ],
      "execution_count": null,
      "outputs": []
    },
    {
      "cell_type": "code",
      "metadata": {
        "id": "5N_CuxIG8fs5",
        "colab_type": "code",
        "colab": {
          "base_uri": "https://localhost:8080/",
          "height": 129
        },
        "outputId": "230b465f-1b89-4e35-cad8-68ab87f331a7"
      },
      "source": [
        "mu_df['D_COU'] = m2_df['D_COU2'].apply(lambda x: 1 if x == 15.1 or x == 15.2 or x== 15.3 else 0)"
      ],
      "execution_count": 207,
      "outputs": [
        {
          "output_type": "stream",
          "text": [
            "/usr/local/lib/python3.6/dist-packages/ipykernel_launcher.py:1: SettingWithCopyWarning: \n",
            "A value is trying to be set on a copy of a slice from a DataFrame.\n",
            "Try using .loc[row_indexer,col_indexer] = value instead\n",
            "\n",
            "See the caveats in the documentation: https://pandas.pydata.org/pandas-docs/stable/user_guide/indexing.html#returning-a-view-versus-a-copy\n",
            "  \"\"\"Entry point for launching an IPython kernel.\n"
          ],
          "name": "stderr"
        }
      ]
    },
    {
      "cell_type": "code",
      "metadata": {
        "id": "EHOMbIP5X2JB",
        "colab_type": "code",
        "colab": {
          "base_uri": "https://localhost:8080/",
          "height": 111
        },
        "outputId": "17c7a641-8b62-474d-ecc4-38550cd6548f"
      },
      "source": [
        "mu_df.drop(['D_COU1','D_COU2'],axis=1,inplace=True)"
      ],
      "execution_count": null,
      "outputs": [
        {
          "output_type": "stream",
          "text": [
            "/usr/local/lib/python3.6/dist-packages/pandas/core/frame.py:3997: SettingWithCopyWarning: \n",
            "A value is trying to be set on a copy of a slice from a DataFrame\n",
            "\n",
            "See the caveats in the documentation: https://pandas.pydata.org/pandas-docs/stable/user_guide/indexing.html#returning-a-view-versus-a-copy\n",
            "  errors=errors,\n"
          ],
          "name": "stderr"
        }
      ]
    },
    {
      "cell_type": "code",
      "metadata": {
        "id": "yq62FmCLa-_Y",
        "colab_type": "code",
        "colab": {
          "base_uri": "https://localhost:8080/",
          "height": 148
        },
        "outputId": "ba421959-191c-48ac-dc2d-5273a4674c89"
      },
      "source": [
        "m2_df['Q5_1'].value_counts()"
      ],
      "execution_count": null,
      "outputs": [
        {
          "output_type": "execute_result",
          "data": {
            "text/plain": [
              "1.0    1136\n",
              "3.0     403\n",
              "8.0     152\n",
              "4.0      63\n",
              "6.0      57\n",
              "5.0       1\n",
              "Name: Q5_1, dtype: int64"
            ]
          },
          "metadata": {
            "tags": []
          },
          "execution_count": 122
        }
      ]
    },
    {
      "cell_type": "code",
      "metadata": {
        "id": "rVYycfLdYuGM",
        "colab_type": "code",
        "colab": {
          "base_uri": "https://localhost:8080/",
          "height": 129
        },
        "outputId": "828ff3da-4da0-432f-b708-fd600ef77143"
      },
      "source": [
        "mu_df['Q5_1'] = m2_df['Q5_1'].apply(lambda x: 8 if x == 2 else x)"
      ],
      "execution_count": 208,
      "outputs": [
        {
          "output_type": "stream",
          "text": [
            "/usr/local/lib/python3.6/dist-packages/ipykernel_launcher.py:1: SettingWithCopyWarning: \n",
            "A value is trying to be set on a copy of a slice from a DataFrame.\n",
            "Try using .loc[row_indexer,col_indexer] = value instead\n",
            "\n",
            "See the caveats in the documentation: https://pandas.pydata.org/pandas-docs/stable/user_guide/indexing.html#returning-a-view-versus-a-copy\n",
            "  \"\"\"Entry point for launching an IPython kernel.\n"
          ],
          "name": "stderr"
        }
      ]
    },
    {
      "cell_type": "code",
      "metadata": {
        "id": "Y6UEzyiYZhj6",
        "colab_type": "code",
        "colab": {
          "base_uri": "https://localhost:8080/",
          "height": 129
        },
        "outputId": "fe0a2703-34b0-4a50-aed6-3e2d9a2b5702"
      },
      "source": [
        "mu_df['Q5_1'] = m2_df['Q5_1'].apply(lambda x: 2 if x == 3 else x)"
      ],
      "execution_count": 209,
      "outputs": [
        {
          "output_type": "stream",
          "text": [
            "/usr/local/lib/python3.6/dist-packages/ipykernel_launcher.py:1: SettingWithCopyWarning: \n",
            "A value is trying to be set on a copy of a slice from a DataFrame.\n",
            "Try using .loc[row_indexer,col_indexer] = value instead\n",
            "\n",
            "See the caveats in the documentation: https://pandas.pydata.org/pandas-docs/stable/user_guide/indexing.html#returning-a-view-versus-a-copy\n",
            "  \"\"\"Entry point for launching an IPython kernel.\n"
          ],
          "name": "stderr"
        }
      ]
    },
    {
      "cell_type": "code",
      "metadata": {
        "id": "FJa20U6sZiya",
        "colab_type": "code",
        "colab": {
          "base_uri": "https://localhost:8080/",
          "height": 129
        },
        "outputId": "ad951d5e-41dd-4845-b95d-78c750b2550b"
      },
      "source": [
        "mu_df['Q5_1'] = m2_df['Q5_1'].apply(lambda x: 3 if x == 4 else x)"
      ],
      "execution_count": 210,
      "outputs": [
        {
          "output_type": "stream",
          "text": [
            "/usr/local/lib/python3.6/dist-packages/ipykernel_launcher.py:1: SettingWithCopyWarning: \n",
            "A value is trying to be set on a copy of a slice from a DataFrame.\n",
            "Try using .loc[row_indexer,col_indexer] = value instead\n",
            "\n",
            "See the caveats in the documentation: https://pandas.pydata.org/pandas-docs/stable/user_guide/indexing.html#returning-a-view-versus-a-copy\n",
            "  \"\"\"Entry point for launching an IPython kernel.\n"
          ],
          "name": "stderr"
        }
      ]
    },
    {
      "cell_type": "code",
      "metadata": {
        "id": "iJcbLn-rZi45",
        "colab_type": "code",
        "colab": {
          "base_uri": "https://localhost:8080/",
          "height": 129
        },
        "outputId": "151867a9-10f3-4762-dc3b-6205570feff9"
      },
      "source": [
        "mu_df['Q5_1'] = m2_df['Q5_1'].apply(lambda x: 4 if x == 5 else x)"
      ],
      "execution_count": 211,
      "outputs": [
        {
          "output_type": "stream",
          "text": [
            "/usr/local/lib/python3.6/dist-packages/ipykernel_launcher.py:1: SettingWithCopyWarning: \n",
            "A value is trying to be set on a copy of a slice from a DataFrame.\n",
            "Try using .loc[row_indexer,col_indexer] = value instead\n",
            "\n",
            "See the caveats in the documentation: https://pandas.pydata.org/pandas-docs/stable/user_guide/indexing.html#returning-a-view-versus-a-copy\n",
            "  \"\"\"Entry point for launching an IPython kernel.\n"
          ],
          "name": "stderr"
        }
      ]
    },
    {
      "cell_type": "code",
      "metadata": {
        "id": "yYjRYALFZh29",
        "colab_type": "code",
        "colab": {
          "base_uri": "https://localhost:8080/",
          "height": 129
        },
        "outputId": "435f6c6e-709e-48e1-c0f0-b8945c372926"
      },
      "source": [
        "mu_df['Q5_1'] = m2_df['Q5_1'].apply(lambda x: 5 if x == 6 else x)"
      ],
      "execution_count": 212,
      "outputs": [
        {
          "output_type": "stream",
          "text": [
            "/usr/local/lib/python3.6/dist-packages/ipykernel_launcher.py:1: SettingWithCopyWarning: \n",
            "A value is trying to be set on a copy of a slice from a DataFrame.\n",
            "Try using .loc[row_indexer,col_indexer] = value instead\n",
            "\n",
            "See the caveats in the documentation: https://pandas.pydata.org/pandas-docs/stable/user_guide/indexing.html#returning-a-view-versus-a-copy\n",
            "  \"\"\"Entry point for launching an IPython kernel.\n"
          ],
          "name": "stderr"
        }
      ]
    },
    {
      "cell_type": "code",
      "metadata": {
        "id": "JQ3RWVv_cVJb",
        "colab_type": "code",
        "colab": {
          "base_uri": "https://localhost:8080/",
          "height": 129
        },
        "outputId": "fda88cc9-3b4e-4924-b999-ec725249dc86"
      },
      "source": [
        "mu_df['Q5_1'] = m2_df['Q5_1'].apply(lambda x: 5 if x == 8 else x)"
      ],
      "execution_count": 213,
      "outputs": [
        {
          "output_type": "stream",
          "text": [
            "/usr/local/lib/python3.6/dist-packages/ipykernel_launcher.py:1: SettingWithCopyWarning: \n",
            "A value is trying to be set on a copy of a slice from a DataFrame.\n",
            "Try using .loc[row_indexer,col_indexer] = value instead\n",
            "\n",
            "See the caveats in the documentation: https://pandas.pydata.org/pandas-docs/stable/user_guide/indexing.html#returning-a-view-versus-a-copy\n",
            "  \"\"\"Entry point for launching an IPython kernel.\n"
          ],
          "name": "stderr"
        }
      ]
    },
    {
      "cell_type": "code",
      "metadata": {
        "id": "zqXLC9RWar8g",
        "colab_type": "code",
        "colab": {
          "base_uri": "https://localhost:8080/",
          "height": 129
        },
        "outputId": "9c9e8c89-47b4-42bc-d391-aaf4b2312a62"
      },
      "source": [
        "mu_df['Q5_1'].value_counts()"
      ],
      "execution_count": 214,
      "outputs": [
        {
          "output_type": "execute_result",
          "data": {
            "text/plain": [
              "1.0    1136\n",
              "2.0     403\n",
              "5.0     209\n",
              "3.0      63\n",
              "4.0       1\n",
              "Name: Q5_1, dtype: int64"
            ]
          },
          "metadata": {
            "tags": []
          },
          "execution_count": 214
        }
      ]
    },
    {
      "cell_type": "code",
      "metadata": {
        "id": "W4RubSS1axU_",
        "colab_type": "code",
        "colab": {
          "base_uri": "https://localhost:8080/",
          "height": 241
        },
        "outputId": "ac6506f8-a006-4513-e164-b0b9df56afcc"
      },
      "source": [
        "mu_df['Q9_1A1']"
      ],
      "execution_count": 167,
      "outputs": [
        {
          "output_type": "execute_result",
          "data": {
            "text/plain": [
              "11748    1.0\n",
              "11749    1.0\n",
              "11750    1.0\n",
              "11751    1.0\n",
              "11752    2.0\n",
              "        ... \n",
              "16003    1.0\n",
              "16004    1.0\n",
              "16005    1.0\n",
              "16023    2.0\n",
              "16024    4.0\n",
              "Name: Q9_1A1, Length: 1812, dtype: float64"
            ]
          },
          "metadata": {
            "tags": []
          },
          "execution_count": 167
        }
      ]
    },
    {
      "cell_type": "code",
      "metadata": {
        "id": "8WLCPBZ5cfW1",
        "colab_type": "code",
        "colab": {}
      },
      "source": [
        "m_t4=mu_df"
      ],
      "execution_count": 215,
      "outputs": []
    },
    {
      "cell_type": "code",
      "metadata": {
        "id": "aS6yOOuOlZqW",
        "colab_type": "code",
        "colab": {
          "base_uri": "https://localhost:8080/",
          "height": 260
        },
        "outputId": "f5d6dbd6-3ada-4846-bff7-54e8c84a9ec0"
      },
      "source": [
        "m_t4['Q9_1A5'].value_counts()"
      ],
      "execution_count": 281,
      "outputs": [
        {
          "output_type": "execute_result",
          "data": {
            "text/plain": [
              "5.0     372\n",
              "6.0     190\n",
              "8.0      89\n",
              "7.0      74\n",
              "11.0     56\n",
              "9.0      46\n",
              "10.0     27\n",
              "12.0     21\n",
              "13.0      5\n",
              "2.0       3\n",
              "14.0      3\n",
              "1.0       1\n",
              "Name: Q9_1A5, dtype: int64"
            ]
          },
          "metadata": {
            "tags": []
          },
          "execution_count": 281
        }
      ]
    },
    {
      "cell_type": "code",
      "metadata": {
        "id": "ljSGns33qu8k",
        "colab_type": "code",
        "colab": {
          "base_uri": "https://localhost:8080/",
          "height": 129
        },
        "outputId": "48e74d28-c2d2-410f-a719-aba800cd7514"
      },
      "source": [
        "for i in range(20):\n",
        "  m_t4['QQ_{0}'.format(i+2)]=0"
      ],
      "execution_count": 283,
      "outputs": [
        {
          "output_type": "stream",
          "text": [
            "/usr/local/lib/python3.6/dist-packages/ipykernel_launcher.py:2: SettingWithCopyWarning: \n",
            "A value is trying to be set on a copy of a slice from a DataFrame.\n",
            "Try using .loc[row_indexer,col_indexer] = value instead\n",
            "\n",
            "See the caveats in the documentation: https://pandas.pydata.org/pandas-docs/stable/user_guide/indexing.html#returning-a-view-versus-a-copy\n",
            "  \n"
          ],
          "name": "stderr"
        }
      ]
    },
    {
      "cell_type": "code",
      "metadata": {
        "id": "FkIll-igjW94",
        "colab_type": "code",
        "colab": {
          "base_uri": "https://localhost:8080/",
          "height": 297
        },
        "outputId": "5f76797a-4731-4c95-c316-cdcf2e483966"
      },
      "source": [
        "for j in range(20):\n",
        "  for i in range(len(m_t4['Q9_1A{0}'.format(j+1)])):\n",
        "    if m_t4['Q9_1A{0}'.format(j+1)][i:i+1].values ==14:\n",
        "      m_t4['QQ_14'][i:i+1]= 1\n"
      ],
      "execution_count": 302,
      "outputs": [
        {
          "output_type": "stream",
          "text": [
            "/usr/local/lib/python3.6/dist-packages/ipykernel_launcher.py:4: SettingWithCopyWarning: \n",
            "A value is trying to be set on a copy of a slice from a DataFrame\n",
            "\n",
            "See the caveats in the documentation: https://pandas.pydata.org/pandas-docs/stable/user_guide/indexing.html#returning-a-view-versus-a-copy\n",
            "  after removing the cwd from sys.path.\n",
            "/usr/local/lib/python3.6/dist-packages/pandas/core/series.py:1042: SettingWithCopyWarning: \n",
            "A value is trying to be set on a copy of a slice from a DataFrame\n",
            "\n",
            "See the caveats in the documentation: https://pandas.pydata.org/pandas-docs/stable/user_guide/indexing.html#returning-a-view-versus-a-copy\n",
            "  self._set_with(key, value)\n",
            "/usr/local/lib/python3.6/dist-packages/IPython/core/interactiveshell.py:2882: SettingWithCopyWarning: \n",
            "A value is trying to be set on a copy of a slice from a DataFrame\n",
            "\n",
            "See the caveats in the documentation: https://pandas.pydata.org/pandas-docs/stable/user_guide/indexing.html#returning-a-view-versus-a-copy\n",
            "  exec(code_obj, self.user_global_ns, self.user_ns)\n"
          ],
          "name": "stderr"
        }
      ]
    },
    {
      "cell_type": "code",
      "metadata": {
        "id": "ivVOO43Phw0e",
        "colab_type": "code",
        "colab": {
          "base_uri": "https://localhost:8080/",
          "height": 1000
        },
        "outputId": "cb928966-8dd3-4447-d953-d703e15157be"
      },
      "source": [
        "for i in range(20):\n",
        "  print(m_t4['QQ_{0}'.format(i+1)].value_counts())"
      ],
      "execution_count": 304,
      "outputs": [
        {
          "output_type": "stream",
          "text": [
            "1    973\n",
            "0    839\n",
            "Name: QQ_1, dtype: int64\n",
            "1    1716\n",
            "0      96\n",
            "Name: QQ_2, dtype: int64\n",
            "1    1280\n",
            "0     532\n",
            "Name: QQ_3, dtype: int64\n",
            "1    1187\n",
            "0     625\n",
            "Name: QQ_4, dtype: int64\n",
            "0    1087\n",
            "1     725\n",
            "Name: QQ_5, dtype: int64\n",
            "0    1207\n",
            "1     605\n",
            "Name: QQ_6, dtype: int64\n",
            "0    1487\n",
            "1     325\n",
            "Name: QQ_7, dtype: int64\n",
            "0    1338\n",
            "1     474\n",
            "Name: QQ_8, dtype: int64\n",
            "0    1499\n",
            "1     313\n",
            "Name: QQ_9, dtype: int64\n",
            "0    1626\n",
            "1     186\n",
            "Name: QQ_10, dtype: int64\n",
            "0    1411\n",
            "1     401\n",
            "Name: QQ_11, dtype: int64\n",
            "0    1690\n",
            "1     122\n",
            "Name: QQ_12, dtype: int64\n",
            "0    1764\n",
            "1      48\n",
            "Name: QQ_13, dtype: int64\n",
            "0    1804\n",
            "1       8\n",
            "Name: QQ_14, dtype: int64\n",
            "0    1812\n",
            "Name: QQ_15, dtype: int64\n",
            "0    1812\n",
            "Name: QQ_16, dtype: int64\n",
            "0    1812\n",
            "Name: QQ_17, dtype: int64\n",
            "0    1812\n",
            "Name: QQ_18, dtype: int64\n",
            "0    1812\n",
            "Name: QQ_19, dtype: int64\n",
            "0    1812\n",
            "Name: QQ_20, dtype: int64\n"
          ],
          "name": "stdout"
        }
      ]
    },
    {
      "cell_type": "code",
      "metadata": {
        "id": "nK9Q2wP0rCuA",
        "colab_type": "code",
        "colab": {
          "base_uri": "https://localhost:8080/",
          "height": 129
        },
        "outputId": "42762e46-3735-4b05-ddaa-b40666a9b9dd"
      },
      "source": [
        "m_t4['Q12'] = m_t4['Q12'].apply(lambda x: 2 if x == 3 else x)"
      ],
      "execution_count": 306,
      "outputs": [
        {
          "output_type": "stream",
          "text": [
            "/usr/local/lib/python3.6/dist-packages/ipykernel_launcher.py:1: SettingWithCopyWarning: \n",
            "A value is trying to be set on a copy of a slice from a DataFrame.\n",
            "Try using .loc[row_indexer,col_indexer] = value instead\n",
            "\n",
            "See the caveats in the documentation: https://pandas.pydata.org/pandas-docs/stable/user_guide/indexing.html#returning-a-view-versus-a-copy\n",
            "  \"\"\"Entry point for launching an IPython kernel.\n"
          ],
          "name": "stderr"
        }
      ]
    },
    {
      "cell_type": "code",
      "metadata": {
        "id": "EmCWdWIHw8jQ",
        "colab_type": "code",
        "colab": {
          "base_uri": "https://localhost:8080/",
          "height": 73
        },
        "outputId": "18c208f7-5a4c-4276-d623-50199df3908f"
      },
      "source": [
        "m_t4['Q12'].value_counts()"
      ],
      "execution_count": 308,
      "outputs": [
        {
          "output_type": "execute_result",
          "data": {
            "text/plain": [
              "1.0    1446\n",
              "2.0     366\n",
              "Name: Q12, dtype: int64"
            ]
          },
          "metadata": {
            "tags": []
          },
          "execution_count": 308
        }
      ]
    },
    {
      "cell_type": "code",
      "metadata": {
        "id": "XawM2GAYxSpL",
        "colab_type": "code",
        "colab": {
          "base_uri": "https://localhost:8080/",
          "height": 36
        },
        "outputId": "7f593535-dc7f-44b0-ec3c-823f352a955c"
      },
      "source": [
        "m_t4['Q16']"
      ],
      "execution_count": 316,
      "outputs": [
        {
          "output_type": "execute_result",
          "data": {
            "text/plain": [
              "0"
            ]
          },
          "metadata": {
            "tags": []
          },
          "execution_count": 316
        }
      ]
    },
    {
      "cell_type": "code",
      "metadata": {
        "id": "tZsQ8o9jxxgd",
        "colab_type": "code",
        "colab": {
          "base_uri": "https://localhost:8080/",
          "height": 391
        },
        "outputId": "3fbf0b5d-2410-415d-ccfb-0255c6d611f8"
      },
      "source": [
        "for i in range(len(m_t4['Q16'])):\n",
        "  if m_t4['Q16'][i:i+1].values == 4 or m_t4['Q16'][i:i+1].values == 5 :\n",
        "    m_t4['Q16_a'][i:i+1]= 1\n",
        "  else:\n",
        "    m_t4['Q16_a'][i:i+1]= 0"
      ],
      "execution_count": 317,
      "outputs": [
        {
          "output_type": "stream",
          "text": [
            "/usr/local/lib/python3.6/dist-packages/ipykernel_launcher.py:3: SettingWithCopyWarning: \n",
            "A value is trying to be set on a copy of a slice from a DataFrame\n",
            "\n",
            "See the caveats in the documentation: https://pandas.pydata.org/pandas-docs/stable/user_guide/indexing.html#returning-a-view-versus-a-copy\n",
            "  This is separate from the ipykernel package so we can avoid doing imports until\n",
            "/usr/local/lib/python3.6/dist-packages/pandas/core/series.py:1042: SettingWithCopyWarning: \n",
            "A value is trying to be set on a copy of a slice from a DataFrame\n",
            "\n",
            "See the caveats in the documentation: https://pandas.pydata.org/pandas-docs/stable/user_guide/indexing.html#returning-a-view-versus-a-copy\n",
            "  self._set_with(key, value)\n",
            "/usr/local/lib/python3.6/dist-packages/IPython/core/interactiveshell.py:2882: SettingWithCopyWarning: \n",
            "A value is trying to be set on a copy of a slice from a DataFrame\n",
            "\n",
            "See the caveats in the documentation: https://pandas.pydata.org/pandas-docs/stable/user_guide/indexing.html#returning-a-view-versus-a-copy\n",
            "  exec(code_obj, self.user_global_ns, self.user_ns)\n",
            "/usr/local/lib/python3.6/dist-packages/ipykernel_launcher.py:5: SettingWithCopyWarning: \n",
            "A value is trying to be set on a copy of a slice from a DataFrame\n",
            "\n",
            "See the caveats in the documentation: https://pandas.pydata.org/pandas-docs/stable/user_guide/indexing.html#returning-a-view-versus-a-copy\n",
            "  \"\"\"\n"
          ],
          "name": "stderr"
        }
      ]
    },
    {
      "cell_type": "code",
      "metadata": {
        "id": "Tul1vrzvx7L_",
        "colab_type": "code",
        "colab": {
          "base_uri": "https://localhost:8080/",
          "height": 73
        },
        "outputId": "9283403f-532d-438d-e245-4d63a37b7d10"
      },
      "source": [
        "m_t4['Q16_a'].value_counts()"
      ],
      "execution_count": 318,
      "outputs": [
        {
          "output_type": "execute_result",
          "data": {
            "text/plain": [
              "1    1590\n",
              "0     222\n",
              "Name: Q16_a, dtype: int64"
            ]
          },
          "metadata": {
            "tags": []
          },
          "execution_count": 318
        }
      ]
    },
    {
      "cell_type": "markdown",
      "metadata": {
        "id": "NLnrN3hT3pOT",
        "colab_type": "text"
      },
      "source": [
        "- 동반자 현황 : Q2A1\n",
        "- 주요 방한목적 : Q5_1\n",
        "- 주요 활동 참여 여부 : QQ_1 ~ QQ_14\n",
        "- 여행 형태 : Q12\n",
        "- 1인 평균 지출 경비 총액 : CQ14_1T\n",
        "- 국가 : D_COU\n",
        "- 성별 : D_GEN\n",
        "- 연령별 : D_AGE\n",
        "- 재방문 의향 : Q16_a"
      ]
    },
    {
      "cell_type": "code",
      "metadata": {
        "id": "sFLkWW1px8WH",
        "colab_type": "code",
        "colab": {}
      },
      "source": [
        "ms_df= m_t4[['Q2A1','Q5_1','QQ_1','QQ_2','QQ_3','QQ_4','QQ_5','QQ_6','QQ_7','QQ_8','QQ_9','QQ_10','QQ_11','QQ_12','QQ_13','QQ_14','CQ14_1T','D_COU','D_GEN','Q16_a']]"
      ],
      "execution_count": 339,
      "outputs": []
    },
    {
      "cell_type": "code",
      "metadata": {
        "id": "Jg1pECw-6mIh",
        "colab_type": "code",
        "colab": {
          "base_uri": "https://localhost:8080/",
          "height": 355
        },
        "outputId": "302e8da7-ae99-4298-c28e-0ec5d6c7b8cd"
      },
      "source": [
        "ms_df.head(10)"
      ],
      "execution_count": 340,
      "outputs": [
        {
          "output_type": "execute_result",
          "data": {
            "text/html": [
              "<div>\n",
              "<style scoped>\n",
              "    .dataframe tbody tr th:only-of-type {\n",
              "        vertical-align: middle;\n",
              "    }\n",
              "\n",
              "    .dataframe tbody tr th {\n",
              "        vertical-align: top;\n",
              "    }\n",
              "\n",
              "    .dataframe thead th {\n",
              "        text-align: right;\n",
              "    }\n",
              "</style>\n",
              "<table border=\"1\" class=\"dataframe\">\n",
              "  <thead>\n",
              "    <tr style=\"text-align: right;\">\n",
              "      <th></th>\n",
              "      <th>Q2A1</th>\n",
              "      <th>Q5_1</th>\n",
              "      <th>QQ_1</th>\n",
              "      <th>QQ_2</th>\n",
              "      <th>QQ_3</th>\n",
              "      <th>QQ_4</th>\n",
              "      <th>QQ_5</th>\n",
              "      <th>QQ_6</th>\n",
              "      <th>QQ_7</th>\n",
              "      <th>QQ_8</th>\n",
              "      <th>QQ_9</th>\n",
              "      <th>QQ_10</th>\n",
              "      <th>QQ_11</th>\n",
              "      <th>QQ_12</th>\n",
              "      <th>QQ_13</th>\n",
              "      <th>QQ_14</th>\n",
              "      <th>CQ14_1T</th>\n",
              "      <th>D_COU</th>\n",
              "      <th>D_GEN</th>\n",
              "      <th>Q16_a</th>\n",
              "    </tr>\n",
              "  </thead>\n",
              "  <tbody>\n",
              "    <tr>\n",
              "      <th>11748</th>\n",
              "      <td>3.0</td>\n",
              "      <td>1.0</td>\n",
              "      <td>1</td>\n",
              "      <td>1</td>\n",
              "      <td>1</td>\n",
              "      <td>1</td>\n",
              "      <td>1</td>\n",
              "      <td>0</td>\n",
              "      <td>1</td>\n",
              "      <td>1</td>\n",
              "      <td>0</td>\n",
              "      <td>0</td>\n",
              "      <td>0</td>\n",
              "      <td>0</td>\n",
              "      <td>0</td>\n",
              "      <td>0</td>\n",
              "      <td>3.0</td>\n",
              "      <td>0</td>\n",
              "      <td>2.0</td>\n",
              "      <td>1</td>\n",
              "    </tr>\n",
              "    <tr>\n",
              "      <th>11749</th>\n",
              "      <td>1.0</td>\n",
              "      <td>1.0</td>\n",
              "      <td>1</td>\n",
              "      <td>1</td>\n",
              "      <td>1</td>\n",
              "      <td>0</td>\n",
              "      <td>0</td>\n",
              "      <td>0</td>\n",
              "      <td>0</td>\n",
              "      <td>1</td>\n",
              "      <td>0</td>\n",
              "      <td>0</td>\n",
              "      <td>0</td>\n",
              "      <td>0</td>\n",
              "      <td>0</td>\n",
              "      <td>0</td>\n",
              "      <td>3.0</td>\n",
              "      <td>0</td>\n",
              "      <td>1.0</td>\n",
              "      <td>1</td>\n",
              "    </tr>\n",
              "    <tr>\n",
              "      <th>11750</th>\n",
              "      <td>2.0</td>\n",
              "      <td>1.0</td>\n",
              "      <td>1</td>\n",
              "      <td>1</td>\n",
              "      <td>1</td>\n",
              "      <td>1</td>\n",
              "      <td>1</td>\n",
              "      <td>1</td>\n",
              "      <td>1</td>\n",
              "      <td>0</td>\n",
              "      <td>0</td>\n",
              "      <td>1</td>\n",
              "      <td>0</td>\n",
              "      <td>0</td>\n",
              "      <td>0</td>\n",
              "      <td>0</td>\n",
              "      <td>2.0</td>\n",
              "      <td>0</td>\n",
              "      <td>2.0</td>\n",
              "      <td>1</td>\n",
              "    </tr>\n",
              "    <tr>\n",
              "      <th>11751</th>\n",
              "      <td>3.0</td>\n",
              "      <td>1.0</td>\n",
              "      <td>1</td>\n",
              "      <td>1</td>\n",
              "      <td>1</td>\n",
              "      <td>0</td>\n",
              "      <td>1</td>\n",
              "      <td>0</td>\n",
              "      <td>1</td>\n",
              "      <td>0</td>\n",
              "      <td>0</td>\n",
              "      <td>1</td>\n",
              "      <td>0</td>\n",
              "      <td>0</td>\n",
              "      <td>0</td>\n",
              "      <td>0</td>\n",
              "      <td>4.0</td>\n",
              "      <td>0</td>\n",
              "      <td>1.0</td>\n",
              "      <td>1</td>\n",
              "    </tr>\n",
              "    <tr>\n",
              "      <th>11752</th>\n",
              "      <td>2.0</td>\n",
              "      <td>1.0</td>\n",
              "      <td>0</td>\n",
              "      <td>1</td>\n",
              "      <td>0</td>\n",
              "      <td>1</td>\n",
              "      <td>1</td>\n",
              "      <td>0</td>\n",
              "      <td>1</td>\n",
              "      <td>1</td>\n",
              "      <td>0</td>\n",
              "      <td>0</td>\n",
              "      <td>0</td>\n",
              "      <td>0</td>\n",
              "      <td>0</td>\n",
              "      <td>0</td>\n",
              "      <td>6.0</td>\n",
              "      <td>0</td>\n",
              "      <td>1.0</td>\n",
              "      <td>1</td>\n",
              "    </tr>\n",
              "    <tr>\n",
              "      <th>11753</th>\n",
              "      <td>2.0</td>\n",
              "      <td>1.0</td>\n",
              "      <td>0</td>\n",
              "      <td>1</td>\n",
              "      <td>1</td>\n",
              "      <td>1</td>\n",
              "      <td>1</td>\n",
              "      <td>1</td>\n",
              "      <td>0</td>\n",
              "      <td>1</td>\n",
              "      <td>0</td>\n",
              "      <td>1</td>\n",
              "      <td>0</td>\n",
              "      <td>0</td>\n",
              "      <td>0</td>\n",
              "      <td>0</td>\n",
              "      <td>4.0</td>\n",
              "      <td>0</td>\n",
              "      <td>2.0</td>\n",
              "      <td>1</td>\n",
              "    </tr>\n",
              "    <tr>\n",
              "      <th>11754</th>\n",
              "      <td>2.0</td>\n",
              "      <td>1.0</td>\n",
              "      <td>1</td>\n",
              "      <td>1</td>\n",
              "      <td>1</td>\n",
              "      <td>1</td>\n",
              "      <td>0</td>\n",
              "      <td>0</td>\n",
              "      <td>1</td>\n",
              "      <td>0</td>\n",
              "      <td>0</td>\n",
              "      <td>0</td>\n",
              "      <td>0</td>\n",
              "      <td>0</td>\n",
              "      <td>0</td>\n",
              "      <td>0</td>\n",
              "      <td>2.0</td>\n",
              "      <td>0</td>\n",
              "      <td>1.0</td>\n",
              "      <td>1</td>\n",
              "    </tr>\n",
              "    <tr>\n",
              "      <th>11755</th>\n",
              "      <td>2.0</td>\n",
              "      <td>1.0</td>\n",
              "      <td>1</td>\n",
              "      <td>1</td>\n",
              "      <td>1</td>\n",
              "      <td>0</td>\n",
              "      <td>1</td>\n",
              "      <td>0</td>\n",
              "      <td>0</td>\n",
              "      <td>0</td>\n",
              "      <td>0</td>\n",
              "      <td>1</td>\n",
              "      <td>0</td>\n",
              "      <td>0</td>\n",
              "      <td>0</td>\n",
              "      <td>0</td>\n",
              "      <td>1.0</td>\n",
              "      <td>0</td>\n",
              "      <td>2.0</td>\n",
              "      <td>1</td>\n",
              "    </tr>\n",
              "    <tr>\n",
              "      <th>11756</th>\n",
              "      <td>2.0</td>\n",
              "      <td>1.0</td>\n",
              "      <td>0</td>\n",
              "      <td>1</td>\n",
              "      <td>0</td>\n",
              "      <td>0</td>\n",
              "      <td>0</td>\n",
              "      <td>0</td>\n",
              "      <td>1</td>\n",
              "      <td>1</td>\n",
              "      <td>1</td>\n",
              "      <td>0</td>\n",
              "      <td>0</td>\n",
              "      <td>0</td>\n",
              "      <td>0</td>\n",
              "      <td>0</td>\n",
              "      <td>5.0</td>\n",
              "      <td>0</td>\n",
              "      <td>2.0</td>\n",
              "      <td>1</td>\n",
              "    </tr>\n",
              "    <tr>\n",
              "      <th>11757</th>\n",
              "      <td>2.0</td>\n",
              "      <td>1.0</td>\n",
              "      <td>1</td>\n",
              "      <td>1</td>\n",
              "      <td>1</td>\n",
              "      <td>1</td>\n",
              "      <td>1</td>\n",
              "      <td>0</td>\n",
              "      <td>0</td>\n",
              "      <td>1</td>\n",
              "      <td>0</td>\n",
              "      <td>0</td>\n",
              "      <td>0</td>\n",
              "      <td>0</td>\n",
              "      <td>0</td>\n",
              "      <td>0</td>\n",
              "      <td>4.0</td>\n",
              "      <td>0</td>\n",
              "      <td>1.0</td>\n",
              "      <td>1</td>\n",
              "    </tr>\n",
              "  </tbody>\n",
              "</table>\n",
              "</div>"
            ],
            "text/plain": [
              "       Q2A1  Q5_1  QQ_1  QQ_2  QQ_3  ...  QQ_14  CQ14_1T  D_COU  D_GEN  Q16_a\n",
              "11748   3.0   1.0     1     1     1  ...      0      3.0      0    2.0      1\n",
              "11749   1.0   1.0     1     1     1  ...      0      3.0      0    1.0      1\n",
              "11750   2.0   1.0     1     1     1  ...      0      2.0      0    2.0      1\n",
              "11751   3.0   1.0     1     1     1  ...      0      4.0      0    1.0      1\n",
              "11752   2.0   1.0     0     1     0  ...      0      6.0      0    1.0      1\n",
              "11753   2.0   1.0     0     1     1  ...      0      4.0      0    2.0      1\n",
              "11754   2.0   1.0     1     1     1  ...      0      2.0      0    1.0      1\n",
              "11755   2.0   1.0     1     1     1  ...      0      1.0      0    2.0      1\n",
              "11756   2.0   1.0     0     1     0  ...      0      5.0      0    2.0      1\n",
              "11757   2.0   1.0     1     1     1  ...      0      4.0      0    1.0      1\n",
              "\n",
              "[10 rows x 20 columns]"
            ]
          },
          "metadata": {
            "tags": []
          },
          "execution_count": 340
        }
      ]
    },
    {
      "cell_type": "code",
      "metadata": {
        "id": "UGavbH_y23Ot",
        "colab_type": "code",
        "colab": {
          "base_uri": "https://localhost:8080/",
          "height": 36
        },
        "outputId": "562e335e-afc4-471f-adcb-958b4f9bf8a5"
      },
      "source": [
        "m_t4['Q16_a'].isnull().sum()"
      ],
      "execution_count": 338,
      "outputs": [
        {
          "output_type": "execute_result",
          "data": {
            "text/plain": [
              "0"
            ]
          },
          "metadata": {
            "tags": []
          },
          "execution_count": 338
        }
      ]
    },
    {
      "cell_type": "code",
      "metadata": {
        "id": "qinwBLeN3Git",
        "colab_type": "code",
        "colab": {
          "base_uri": "https://localhost:8080/",
          "height": 167
        },
        "outputId": "53fc7c8d-0388-45da-e882-3a4daab42ed3"
      },
      "source": [
        "m_t4['CQ14_1T'].value_counts()"
      ],
      "execution_count": 333,
      "outputs": [
        {
          "output_type": "execute_result",
          "data": {
            "text/plain": [
              "2.0    594\n",
              "3.0    371\n",
              "1.0    347\n",
              "4.0    182\n",
              "5.0    169\n",
              "6.0    138\n",
              "7.0     11\n",
              "Name: CQ14_1T, dtype: int64"
            ]
          },
          "metadata": {
            "tags": []
          },
          "execution_count": 333
        }
      ]
    },
    {
      "cell_type": "code",
      "metadata": {
        "id": "7wn7JUm14vTi",
        "colab_type": "code",
        "colab": {
          "base_uri": "https://localhost:8080/",
          "height": 297
        },
        "outputId": "7a2b0953-9823-4c22-ed26-7f9f3c3e93d0"
      },
      "source": [
        "for i in range(len(m_t4['CQ14_1T'])):\n",
        "  if m_t4['CQ14_1T'][i:i+1].values == 98:\n",
        "    m_t4['CQ14_1T'][i:i+1]= 7\n",
        "  "
      ],
      "execution_count": 332,
      "outputs": [
        {
          "output_type": "stream",
          "text": [
            "/usr/local/lib/python3.6/dist-packages/ipykernel_launcher.py:3: SettingWithCopyWarning: \n",
            "A value is trying to be set on a copy of a slice from a DataFrame\n",
            "\n",
            "See the caveats in the documentation: https://pandas.pydata.org/pandas-docs/stable/user_guide/indexing.html#returning-a-view-versus-a-copy\n",
            "  This is separate from the ipykernel package so we can avoid doing imports until\n",
            "/usr/local/lib/python3.6/dist-packages/pandas/core/series.py:1042: SettingWithCopyWarning: \n",
            "A value is trying to be set on a copy of a slice from a DataFrame\n",
            "\n",
            "See the caveats in the documentation: https://pandas.pydata.org/pandas-docs/stable/user_guide/indexing.html#returning-a-view-versus-a-copy\n",
            "  self._set_with(key, value)\n",
            "/usr/local/lib/python3.6/dist-packages/IPython/core/interactiveshell.py:2882: SettingWithCopyWarning: \n",
            "A value is trying to be set on a copy of a slice from a DataFrame\n",
            "\n",
            "See the caveats in the documentation: https://pandas.pydata.org/pandas-docs/stable/user_guide/indexing.html#returning-a-view-versus-a-copy\n",
            "  exec(code_obj, self.user_global_ns, self.user_ns)\n"
          ],
          "name": "stderr"
        }
      ]
    },
    {
      "cell_type": "code",
      "metadata": {
        "id": "Opp2koKF5bDZ",
        "colab_type": "code",
        "colab": {}
      },
      "source": [
        "ms_df.to_csv('/content/drive/My Drive/빅데이터/2019_d.csv')"
      ],
      "execution_count": 341,
      "outputs": []
    },
    {
      "cell_type": "code",
      "metadata": {
        "id": "6DyyZ-d5B2FF",
        "colab_type": "code",
        "colab": {}
      },
      "source": [
        ""
      ],
      "execution_count": null,
      "outputs": []
    }
  ]
}